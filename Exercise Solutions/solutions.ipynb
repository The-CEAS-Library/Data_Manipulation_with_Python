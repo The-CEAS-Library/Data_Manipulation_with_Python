{
  "cells": [
    {
      "cell_type": "code",
      "execution_count": null,
      "metadata": {
        "id": "4cLSbInqFfa1"
      },
      "outputs": [],
      "source": [
        "import pandas as pd"
      ]
    },
    {
      "cell_type": "code",
      "source": [
        "!wget https://raw.githubusercontent.com/The-CEAS-Library/Data_Manipulation_with_Python/refs/heads/master/data/surveys.csv\n",
        "!wget https://raw.githubusercontent.com/The-CEAS-Library/Data_Manipulation_with_Python/refs/heads/master/survey_years.py"
      ],
      "metadata": {
        "id": "Ml-015ZOGmzu"
      },
      "execution_count": null,
      "outputs": []
    },
    {
      "cell_type": "code",
      "execution_count": null,
      "metadata": {
        "id": "6OaqEvhxFfa1"
      },
      "outputs": [],
      "source": [
        "surveys_df = pd.read_csv(\"surveys.csv\")"
      ]
    },
    {
      "cell_type": "markdown",
      "metadata": {
        "id": "HfBLWb2qFfa2"
      },
      "source": [
        "# Exercise 1\n",
        "#### Queries\n",
        "Perform the following queries\n",
        "1. Select a subset of rows in the surveys_df DataFrame that contain data from the year 1999 and weights less than or equal to 8.\n",
        "   How many rows did you end up with? What did your neighbor get?\n",
        "2. Display **record_id** and **plot_id** of data that contain data of the years 1999, 2000, 1977 and 1989.\n",
        "3. Write query that selects all rows with sex NOT equal to ‘M’ or ‘F’ in the data. Write two different queries that produce this same result. Write two different queries that do the same thing.\n",
        "\n",
        "#### Solution to 1.1\n",
        "A subset of rows in the surveys_df DataFrame that contain data from the year 1999 and weights less than or equal to 8."
      ]
    },
    {
      "cell_type": "code",
      "execution_count": null,
      "metadata": {
        "id": "UDXdFYV-Ffa5"
      },
      "outputs": [],
      "source": [
        "surveys_df[(surveys_df['year'] == 1999) & (surveys_df['weight'] <= 8)]"
      ]
    },
    {
      "cell_type": "markdown",
      "metadata": {
        "id": "gY_o__n2Ffa5"
      },
      "source": [
        "How many rows did you end up with?<br>\n",
        "Compare with a neighbour"
      ]
    },
    {
      "cell_type": "code",
      "execution_count": null,
      "metadata": {
        "id": "G-6eJqSTFfa6",
        "outputId": "9350bd4b-d4a9-46a3-8fbf-1904c0ee95ed"
      },
      "outputs": [
        {
          "data": {
            "text/plain": [
              "(55, 9)"
            ]
          },
          "execution_count": 4,
          "metadata": {},
          "output_type": "execute_result"
        }
      ],
      "source": [
        "surveys_df[(surveys_df['year'] == 1999) & (surveys_df['weight'] <= 8)].shape"
      ]
    },
    {
      "cell_type": "markdown",
      "metadata": {
        "id": "NRVNhRd3Ffa6"
      },
      "source": [
        "#### Soltion to 1.2\n",
        "**record_id** and **plot_id** of data that contain data of the years 1999, 2000, 1977 and 1989.\n",
        "\n",
        "###### One solution"
      ]
    },
    {
      "cell_type": "code",
      "execution_count": null,
      "metadata": {
        "id": "PCOQrr5OFfa7"
      },
      "outputs": [],
      "source": [
        "surveys_df[surveys_df['year'].isin([1999, 2000, 1977, 1989])][['record_id','plot_id']]"
      ]
    },
    {
      "cell_type": "markdown",
      "metadata": {
        "id": "OM-B_tKrFfa8"
      },
      "source": [
        "###### Alternative solution"
      ]
    },
    {
      "cell_type": "code",
      "execution_count": null,
      "metadata": {
        "id": "uvVvwBxfFfa8"
      },
      "outputs": [],
      "source": [
        "surveys_df[['record_id','plot_id']][surveys_df['year'].isin([1999, 2000, 1977, 1989])]"
      ]
    },
    {
      "cell_type": "markdown",
      "metadata": {
        "id": "fP3lZNtcFfa8"
      },
      "source": [
        "#### Solution to 1.3\n",
        "All rows with sex equal to ‘M’ or ‘F’ in the data. Write two different queries that produce this same result. Write two different queries that do the same thing.\n",
        "\n",
        "###### One solution"
      ]
    },
    {
      "cell_type": "code",
      "execution_count": null,
      "metadata": {
        "id": "JR68T8T8Ffa9"
      },
      "outputs": [],
      "source": [
        "surveys_df[(surveys_df['sex'] == 'M') | (surveys_df['sex'] == 'F')]"
      ]
    },
    {
      "cell_type": "markdown",
      "metadata": {
        "id": "6oOU5UxLFfa-"
      },
      "source": [
        "###### Alternative solution"
      ]
    },
    {
      "cell_type": "code",
      "execution_count": null,
      "metadata": {
        "id": "5u_56OuxFfa_"
      },
      "outputs": [],
      "source": [
        "surveys_df[surveys_df['sex'].isin(['M','F'])]"
      ]
    },
    {
      "cell_type": "markdown",
      "metadata": {
        "id": "ZoA3SMPsFfbB"
      },
      "source": [
        "# Exercise 2\n",
        "#### Data Workflows and Automation\n",
        "1. Create a script/module called **'survey_years.py'** with the following\n",
        "   * Import the **pandas** and **os** modules\n",
        "   * Create a new folder called **'yearly_files'** using the **os.mkdir( ' data/yearly_files ' )** function\n",
        "   * Craete a first function called **generate_year_files** that imports **'surveys.csv'** into a dataframe and do the following<br>\n",
        "     a) Read all the unique years<br>\n",
        "     b) For each year between **1990** and **2000**, create new **CSV** files with data from only one particular year.<br>\n",
        "     c) The name of the new files should follow the format **'survey_year.csv'** example **'survey_1977.csv'**<br>\n",
        "     **HINT**: Use the **for loop** and **if block**<br><br>\n",
        "   * Create the second function called **display_year_file_names** which reads names of the files generated and print them out.<br>\n",
        "     **HINTS**:<br>\n",
        "     Use the **os.listdir ( ' path/survey_\\* ' )** function to get the list of all files<br>\n",
        "     Use the **for loop** to loop through and print the file names<br><br>\n",
        "2. Import the **'survey_years.py'** moduke into your current session and use the two functions to generate the files for the years and print the file names      "
      ]
    },
    {
      "cell_type": "code",
      "execution_count": null,
      "metadata": {
        "id": "E3ZOrVdWFfbC"
      },
      "outputs": [],
      "source": [
        "import survey_years as s"
      ]
    },
    {
      "cell_type": "code",
      "execution_count": null,
      "metadata": {
        "id": "HjN0kmthFfbC"
      },
      "outputs": [],
      "source": [
        "s.generate_year_files()"
      ]
    },
    {
      "cell_type": "code",
      "execution_count": null,
      "metadata": {
        "id": "C522HUvLFfbC"
      },
      "outputs": [],
      "source": [
        "s.display_year_file_names()"
      ]
    },
    {
      "cell_type": "markdown",
      "metadata": {
        "id": "wOKXkCs-FfbC"
      },
      "source": [
        "# Bonus Exercise Solutions"
      ]
    },
    {
      "cell_type": "code",
      "execution_count": null,
      "metadata": {
        "id": "lUh8TSa3FfbD"
      },
      "outputs": [],
      "source": [
        "surveys_df.groupby('month')['hindfoot_length'].mean()"
      ]
    },
    {
      "cell_type": "code",
      "execution_count": null,
      "metadata": {
        "id": "BBrVRdqnFfbD"
      },
      "outputs": [],
      "source": [
        "surveys_df.groupby('plot_id').agg({'record_id':'count', 'weight':'mean'})"
      ]
    },
    {
      "cell_type": "code",
      "execution_count": null,
      "metadata": {
        "id": "jLP0ddgAFfbD"
      },
      "outputs": [],
      "source": [
        "surveys_df[~surveys_df['month'].isin([6,7,8])].groupby('month')['hindfoot_length'].max()"
      ]
    }
  ],
  "metadata": {
    "kernelspec": {
      "display_name": "Python 3.10.6 64-bit",
      "language": "python",
      "name": "python3"
    },
    "language_info": {
      "codemirror_mode": {
        "name": "ipython",
        "version": 3
      },
      "file_extension": ".py",
      "mimetype": "text/x-python",
      "name": "python",
      "nbconvert_exporter": "python",
      "pygments_lexer": "ipython3",
      "version": "3.10.6"
    },
    "vscode": {
      "interpreter": {
        "hash": "aee8b7b246df8f9039afb4144a1f6fd8d2ca17a180786b69acc140d282b71a49"
      }
    },
    "colab": {
      "provenance": []
    }
  },
  "nbformat": 4,
  "nbformat_minor": 0
}