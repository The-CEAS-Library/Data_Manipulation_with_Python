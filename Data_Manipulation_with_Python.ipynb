{
  "cells": [
    {
      "cell_type": "markdown",
      "metadata": {
        "id": "uN0rPiA3E-7y"
      },
      "source": [
        "# **Objectives**\n",
        "\n",
        "\n",
        "### **Data Manipulation with Python**\n",
        "* **[Data Frames, Data Series and Pandas Library](#scrollTo=jBIdS1e4E-74)**\n",
        "* **Hands-on working on a data file with Pandas**\n",
        "  * [Creating a Dataframe Object and Saving/Exporting DataFrames](#scrollTo=CxQlMkrDE-76)\n",
        "  * [Exploring a Dataframe](#scrollTo=iVh0ikhOE-7-) (Columns, Datatypes, Shape etc)\n",
        "  * [Dataframe and Series Slicing and Indexing](#scrollTo=didszzDEE-8A) \n",
        "  * [Querying Dataframes](#scrollTo=mt9ieDjbE-8I)\n",
        "  * [Running Statistics on Dataframes](#scrollTo=u-K-K3ocE-8K)\n",
        "  * [Grouping and Aggregating Dataframes](#scrollTo=yh3Vg2UlE-8L)\n",
        "\n"
      ]
    },
    {
      "cell_type": "markdown",
      "source": [
        "\n",
        "## **Using Chat GPT-4 (or GPT-3.5) as a coding tutor when learning this workshop on your own.**\n",
        "There are several ways that GPT can help improve your self-learning process. ChatGPT can be used as a coding tutor to help:\n",
        "* Explain new concepts in other words. Ask it to give basic, intermediate, or advanced explanations of coding concepts depending on your familiarity and comfort level. \n",
        "* Guide you through the exercises and explain the logic and code. If you get stuck with the exercises, you can ask GPT to give you a step-by-step guide to the exercise so you better understand the learning objectives. For best results, be very specific with ChatGPT so it has the necessary context to best help you. \n",
        "\n",
        "* Give you more exercises. If you aren't sure you understand a concept and want to test your knowledge, ask ChatGPT to give additional exercises to help test your abilities and understanding. They can be coding problems, multiple choice, fill in the blank, or whatever will work best for your learning style. Be creative and get the support you want.  \n",
        "\n",
        "The AI has infinite patience, so ask as many questions as you want!\n",
        "\n",
        "### **The Animal Emojis**\n",
        "\n",
        "As you go through this workshop, you will notice **Animal Emojis** embedded throughout. They accompany bolded terms that are the fundamental concepts that python programming is built upon. The key thing here is **if you see an emoji, consider asking ChatGPT about the bolded concept**. For fun, we have gamified this by thinking of the emojis as animals you can visit in a zoo.\n",
        "  - To see all the animals, you should follow the workshop section by section and add your found animal (new coding concept) to the end of the following prompt and take it to ChatGPT:\n",
        "\n",
        " `You are going to take on the role of an excellent python coding tutor. I'm a beginner learning to program in python. In simple terms, please give me an overview and explanation of the following concept:__  `\n",
        "\n",
        "  - You can add more surrounding components to the prompts to make it more clear. For example, maybe you know another language and want ChatGPT to compare how the concept works in R or C++ to help you better understand.\n",
        "\n",
        "### **Disclaimer**\n",
        "\n",
        "\"ChatGPT may produce inaccurate information about people, places, or facts.\" -OpenAI\n",
        "\n",
        "\n",
        "\n",
        "*   Outputs may be inaccurate, untruthful, and otherwise misleading.\n",
        "*   ChatGPT is not connected to the internet. (although this feature is now available with ChatGPT Plus as a beta feature)\n",
        "*   It has limited knowledge of world and events after September 2021. \n",
        "*   It may produce biased content.\n",
        "*   It will not cite sources.\n",
        "\n",
        "Always use caution when interacting with LLM AI systems. Despite the large bounds in progress and capability, they are still in early versions and teams of people are working to fix short comings and mistakes each and every day. Despite how useful they can be as coding tutors, it is important to remember that their outputs should be met with a healthy amount of skepticism. "
      ],
      "metadata": {
        "id": "XQWpAZo14Mcq"
      }
    },
    {
      "cell_type": "markdown",
      "metadata": {
        "id": "tt6PCd-NE-73"
      },
      "source": [
        "## **Data**\n",
        "We will be using files from the [Portal Project Teaching Database](https://figshare.com/articles/Portal_Project_Teaching_Database/1314459). This section will use the **'surveys.csv'** file, stored as a **'.csv'** and can be downloaded here: https://ndownloader.figshare.com/files/2292172<br>\n",
        "We are studying the species and weight of animals caught in sites in our study area.<br>\n",
        "Each row holds information for a single animal, and the columns represent:\n",
        "\n",
        "| **Column**      | **Description**               |\n",
        "|:----------------|:------------------------------|\n",
        "| record_id       | Unique id for the observation |\n",
        "| month           | month of observation          |\n",
        "| day             | day of observation            |\n",
        "| year            | year of observation           |\n",
        "| plot_id         | ID of a particular site       |\n",
        "| species_id      | 2-letter code for a species   |\n",
        "| sex             | sex of animal (“M”, “F”)      |\n",
        "| hindfoot_length | length of the hindfoot in mm  |\n",
        "| weight          | weight of the animal in grams |\t"
      ]
    },
    {
      "cell_type": "markdown",
      "metadata": {
        "id": "jBIdS1e4E-74"
      },
      "source": [
        "## **🐺Python Dataframe**\n",
        "* 2-dimensional data structure that can store data of different types (including characters, integers, floating point values, factors and more) in a tabular form. Each row holds information for each column.\n",
        "* Similar to a spreadsheet or an SQL table or the **'data.frame'** in R. \n",
        "* Dataframes have indexes starting from 0. \n",
        "* An index refers to the position of an element in the data structure.\n",
        "\n",
        "## **🦁Python Series**\n",
        "* A series is a one-dimensional structure like an associative array. \n",
        "* Series have indexes starting from 0.\n",
        "* An index refers to the position of a value in the data structure.\n",
        "\n",
        "|index | value     |\n",
        "|------|-----------|\n",
        "| 0    | -84.5099  |\n",
        "| 1    | -84.48937 |\n",
        "| 2    | -84.4432  |\n",
        "\n",
        "\n",
        "## **🐯Pandas (Python Data Analysis Library)**\n",
        "* **Python Data Analysis Library** shortened as **pandas** is a third-party package for data manipulation\n",
        "* The **pandas** package is one of the best options for working with tabular data in Python\n",
        "* **pandas** ingest data as Dataframe objects and works with both Dataframes and Series\n",
        "* **pandas** uses sequential indexes by default\n",
        "* **pandas** provides data structures, produces high quality plots with **matplotlib** (a Python package graphing) and integrates nicely with other libraries that use **NumPy** (a Python package for arrays processing).\n",
        "* Operations on **numpy** arrays also work on **pandas** Series \n",
        "\n",
        "\n",
        "---\n",
        "Did you notice the first animal emoji - a wolf? Here is an example of how to use the sample prompt given above:\n",
        "\n",
        "`You are going to take on the role of an excellent python coding tutor. I'm a beginner learning to program in python. In simple terms, please give me an overview and explanation of the following concept: Python dataFrame`\n",
        "\n"
      ]
    },
    {
      "cell_type": "markdown",
      "source": [
        "**Importing Pandas**"
      ],
      "metadata": {
        "id": "n2Is9HaYFhpI"
      }
    },
    {
      "cell_type": "code",
      "execution_count": null,
      "metadata": {
        "id": "Ed-DzV3OE-75"
      },
      "outputs": [],
      "source": [
        "import pandas as pd"
      ]
    },
    {
      "cell_type": "code",
      "source": [
        "## Run this cell if you're on Colab to download the 'data' file\n",
        "!wget https://raw.githubusercontent.com/The-CEAS-Library/Data_Manipulation_with_Python/master/data/surveys.csv"
      ],
      "metadata": {
        "id": "Sm-XQ6csQ-tS"
      },
      "execution_count": null,
      "outputs": []
    },
    {
      "cell_type": "markdown",
      "metadata": {
        "id": "CxQlMkrDE-76"
      },
      "source": [
        "### **🦒Reading CSV Data** - ***pd.read_csv( )***\n",
        "The pandas **'read_csv'** function pulls import from **'.csv'** files into a Dataframe objects\n",
        "\n",
        "*Syntax*:<br>\n",
        "**dataframe_object = pd.read_csv( file_path_name )**\n",
        "\n",
        "*Usage*:"
      ]
    },
    {
      "cell_type": "code",
      "source": [
        "surveys_df = pd.read_csv(\"surveys.csv\")\n",
        "surveys_df"
      ],
      "metadata": {
        "id": "suDcRSqJRCQJ"
      },
      "execution_count": null,
      "outputs": []
    },
    {
      "cell_type": "markdown",
      "metadata": {
        "id": "gK7BFlHYE-77"
      },
      "source": [
        "The first column is the **🦊'0-based' index** of the DataFrame. It is not an actual column of the DataFrame but used to identify the position of the data.\n",
        "\n",
        "### **Dataframe *head( )* and *tail( )* methods**\n",
        "The **'head( )'** method displays the first several lines of a dataframe object.\n",
        "The **'tail( )'** method displays the last several lines of a dataframe object.\n",
        "\n",
        "*Syntax*:<br>\n",
        "**data_frame_object_name.head ( [ row_count_limit ] )**<br>\n",
        "**data_frame_object_name.tail ( [ row_count_limit ] )**\n",
        "\n",
        "**# row_count_limit is optional. Default is 5**\n",
        "\n",
        "\n",
        "*Usage*:"
      ]
    },
    {
      "cell_type": "code",
      "execution_count": null,
      "metadata": {
        "id": "Zunp4ob-E-78"
      },
      "outputs": [],
      "source": [
        "surveys_df.head()"
      ]
    },
    {
      "cell_type": "code",
      "execution_count": null,
      "metadata": {
        "id": "jUCMZSVtE-78"
      },
      "outputs": [],
      "source": [
        "surveys_df.tail(10)"
      ]
    },
    {
      "cell_type": "markdown",
      "metadata": {
        "id": "i6Wt_GaJE-79"
      },
      "source": [
        "### **🦝Writing out Data from Dataframe to CSV using *to_csv( )* method**\n",
        "The **'to_csv'** pandas DataFrame method is used to export a DataFrame in CSV format\n",
        "\n",
        "*Syntax*:<br>\n",
        "**data_frame_object_name.to_csv ( csv_file_path_name , [ index ] , [ sep ] , [ na_rep ] , [ mode ] )**\n",
        "\n",
        "*Note*:\n",
        "* **csv_file_path_name** is the file path. If **None** is provided the result is returned as a string. Default is **None**\n",
        "* **index** is boolean value for Write row index/names. Default is **True**. Set this to **False** so that pandas doesn’t include the index number for each line.\n",
        "* **sep** is a string of length 1 for field delimiter for the output file. Default is **' , '**\n",
        "* **na_rep** is a string for missing data representation. Default is **' '**\n",
        "* **mode** is a string for the Python write mode. Default is **'w'**\n",
        "\n",
        "*Usage*:"
      ]
    },
    {
      "cell_type": "code",
      "execution_count": null,
      "metadata": {
        "id": "0clm84efE-79"
      },
      "outputs": [],
      "source": [
        "surveys_df_head = pd.read_csv(\"surveys.csv\").head(30)\n",
        "surveys_df_head.to_csv('surveys_head.csv', index=False)"
      ]
    },
    {
      "cell_type": "markdown",
      "metadata": {
        "id": "ZhcARp0_E-7-"
      },
      "source": [
        "**<h5><center>Note</center></h5>**\n",
        "\n",
        "**' to_excel '** pandas DataFrame method is used to export a DataFrame to an **Excel .xlsx** file"
      ]
    },
    {
      "cell_type": "markdown",
      "source": [
        "## **Accessing Data Attributes of a DataFrame Object**"
      ],
      "metadata": {
        "id": "08yBvCg529Dd"
      }
    },
    {
      "cell_type": "markdown",
      "metadata": {
        "id": "iVh0ikhOE-7-"
      },
      "source": [
        "### **🐻Dataframe '*dtypes*' data attribute**\n",
        "Shows the the data types of the values in the columns.\n",
        "\n",
        "*Syntax*:<br>\n",
        "**data_frame_object_name.dtypes**\n",
        "\n",
        "*Usage*:"
      ]
    },
    {
      "cell_type": "code",
      "execution_count": null,
      "metadata": {
        "id": "AsdaaRVzE-7-"
      },
      "outputs": [],
      "source": [
        "surveys_df.dtypes"
      ]
    },
    {
      "cell_type": "markdown",
      "metadata": {
        "id": "od9b9kUTE-7-"
      },
      "source": [
        "### **🐻‍❄️Dataframe '*columns*' data attribute**\n",
        "Shows an index list of all the column names in the DataFrame.\n",
        "\n",
        "*Syntax*:<br>\n",
        "**data_frame_object_name.columns**\n",
        "\n",
        "*Usage*:"
      ]
    },
    {
      "cell_type": "code",
      "execution_count": null,
      "metadata": {
        "id": "ggmTXP06E-7_"
      },
      "outputs": [],
      "source": [
        "surveys_df.columns"
      ]
    },
    {
      "cell_type": "code",
      "execution_count": null,
      "metadata": {
        "id": "xLXeLN_BE-7_"
      },
      "outputs": [],
      "source": [
        "surveys_df.columns[0:4]"
      ]
    },
    {
      "cell_type": "markdown",
      "metadata": {
        "id": "x5Vq3FSBE-7_"
      },
      "source": [
        "### **🐼Dataframe '*shape*' data attribute**\n",
        "Outputs a tuple of the row by column count of the DataFrame.\n",
        "\n",
        "*Syntax*:<br>\n",
        "**data_frame_object_name.shape**\n",
        "\n",
        "*Usage*:"
      ]
    },
    {
      "cell_type": "code",
      "execution_count": null,
      "metadata": {
        "id": "alTkWtkcE-7_"
      },
      "outputs": [],
      "source": [
        "surveys_df.shape"
      ]
    },
    {
      "cell_type": "markdown",
      "metadata": {
        "collapsed": true,
        "id": "didszzDEE-8A"
      },
      "source": [
        "### **🦓Selecting data using Column Names**\n",
        "* DataFrame objects are treated like dictionaries using column heads as keys\n",
        "* We use square brackets **[ ]** to select column data and for indexing<br>\n",
        "\n",
        "*Syntax*:<br>\n",
        "**data_frame_object_name [ 'column_name' ]**\n",
        "\n",
        "*Usage*:"
      ]
    },
    {
      "cell_type": "code",
      "execution_count": null,
      "metadata": {
        "id": "YiTPionJE-8A"
      },
      "outputs": [],
      "source": [
        "surveys_df['record_id']"
      ]
    },
    {
      "cell_type": "markdown",
      "metadata": {
        "id": "e6t4gmSJE-8A"
      },
      "source": [
        "* You may selct more than one column at a time by making a list of the column names<br>\n",
        "\n",
        "*Syntax*:<br>\n",
        "**data_frame_object_name [ [ 'column_name_1' , 'column_name_2' ] ]**\n",
        "\n",
        "*Usage*:"
      ]
    },
    {
      "cell_type": "code",
      "execution_count": null,
      "metadata": {
        "id": "ylcPj9hSE-8A"
      },
      "outputs": [],
      "source": [
        "surveys_df[['month', 'day']]"
      ]
    },
    {
      "cell_type": "markdown",
      "metadata": {
        "id": "yBs05aoaE-8B"
      },
      "source": [
        "* You may select a column data also by using the column name as an 'attribute'<br>\n",
        "\n",
        "*Syntax*:<br>\n",
        "**data_frame_object_name.column_name**\n",
        "\n",
        "*Usage*:"
      ]
    },
    {
      "cell_type": "code",
      "execution_count": null,
      "metadata": {
        "id": "OT8cx9baE-8B"
      },
      "outputs": [],
      "source": [
        "surveys_df.record_id"
      ]
    },
    {
      "cell_type": "markdown",
      "metadata": {
        "id": "Vw6kEOqHE-8B"
      },
      "source": [
        "### **🐎Selecting Unique values from a column** \n",
        "#### Using pandas *'unique'* function\n",
        "The **pandas.unique()** function tells us all of the unique values in a column\n",
        "\n",
        "*Syntax*:<br>\n",
        "**pd.unique ( data_frame_object_name [ 'column_name' ] )**<br>\n",
        "or<br>\n",
        "**pd.unique ( data_frame_object_name.column_name )**\n",
        "\n",
        "*Usage*:"
      ]
    },
    {
      "cell_type": "code",
      "execution_count": null,
      "metadata": {
        "id": "cKkyP5P4E-8B"
      },
      "outputs": [],
      "source": [
        "pd.unique(surveys_df['species_id'])"
      ]
    },
    {
      "cell_type": "code",
      "execution_count": null,
      "metadata": {
        "id": "y4uBA4uLE-8B",
        "scrolled": true
      },
      "outputs": [],
      "source": [
        "pd.unique(surveys_df.species_id)"
      ]
    },
    {
      "cell_type": "markdown",
      "metadata": {
        "id": "LLqaUuNvE-8C"
      },
      "source": [
        "\n",
        "\n",
        "*Syntax*:<br>\n",
        "**data_series_object_name.unique ( )**<br>\n",
        "or<br>\n",
        "**data_frame_object_name [ 'column_name' ].unique ( )**<br>"
      ]
    },
    {
      "cell_type": "code",
      "execution_count": null,
      "metadata": {
        "id": "jf_IoLK6E-8D"
      },
      "outputs": [],
      "source": [
        "surveys_df['species_id'].unique()"
      ]
    },
    {
      "cell_type": "markdown",
      "metadata": {
        "id": "6Z6u17u0E-8E"
      },
      "source": [
        "### **🦄Extracting data Subsets by Indexing and Slicing**\n",
        "#### **Slicing and subsetting rows**"
      ]
    },
    {
      "cell_type": "code",
      "execution_count": null,
      "metadata": {
        "id": "3qUJxkGRE-8E"
      },
      "outputs": [],
      "source": [
        "surveys_df[0:5]"
      ]
    },
    {
      "cell_type": "code",
      "execution_count": null,
      "metadata": {
        "id": "I7zttvkKE-8E"
      },
      "outputs": [],
      "source": [
        "surveys_df[3:7]"
      ]
    },
    {
      "cell_type": "code",
      "execution_count": null,
      "metadata": {
        "id": "DLYFzBLPE-8E"
      },
      "outputs": [],
      "source": [
        "surveys_df[5:]"
      ]
    },
    {
      "cell_type": "code",
      "execution_count": null,
      "metadata": {
        "id": "ZrYzJiKfE-8E"
      },
      "outputs": [],
      "source": [
        "surveys_df[:5]"
      ]
    },
    {
      "cell_type": "code",
      "execution_count": null,
      "metadata": {
        "id": "1BunOpZtE-8F"
      },
      "outputs": [],
      "source": [
        "surveys_df[-1:]"
      ]
    },
    {
      "cell_type": "code",
      "execution_count": null,
      "metadata": {
        "id": "SpN5TJ4nE-8F"
      },
      "outputs": [],
      "source": [
        "surveys_df[-3:]"
      ]
    },
    {
      "cell_type": "code",
      "execution_count": null,
      "metadata": {
        "id": "yzTi26aPE-8F"
      },
      "outputs": [],
      "source": [
        "surveys_df[-3:-1]"
      ]
    },
    {
      "cell_type": "markdown",
      "metadata": {
        "id": "4b6R03NCE-8F"
      },
      "source": [
        "#### **Selecting and slicing data from columns**"
      ]
    },
    {
      "cell_type": "code",
      "execution_count": null,
      "metadata": {
        "id": "xOu_ifb4E-8F"
      },
      "outputs": [],
      "source": [
        "surveys_df['record_id']"
      ]
    },
    {
      "cell_type": "code",
      "execution_count": null,
      "metadata": {
        "id": "Ewi62EyAE-8F"
      },
      "outputs": [],
      "source": [
        "surveys_df['record_id'][0]"
      ]
    },
    {
      "cell_type": "code",
      "execution_count": null,
      "metadata": {
        "id": "5NDXMLm6E-8F"
      },
      "outputs": [],
      "source": [
        "surveys_df.record_id[0]"
      ]
    },
    {
      "cell_type": "code",
      "execution_count": null,
      "metadata": {
        "id": "O3OZzvcYE-8G"
      },
      "outputs": [],
      "source": [
        "surveys_df['record_id'][0:4]"
      ]
    },
    {
      "cell_type": "code",
      "execution_count": null,
      "metadata": {
        "id": "5ez_DIZ7E-8G"
      },
      "outputs": [],
      "source": [
        "surveys_df[['record_id','plot_id']][0:5]"
      ]
    },
    {
      "cell_type": "markdown",
      "metadata": {
        "id": "SbUO0_q7E-8G"
      },
      "source": [
        "#### **Slicing Subsets of Rows and Columns**\n",
        "We can select a specific row and a column value (a specific data element) or ranges of the data in both the row and column directions using either the **'iloc'** data attribute with integer-based indexing or the **'loc'** data attribute with integers for rows and the column labels.\n",
        "\n",
        "\n",
        "##### **🦬iloc**\n",
        "* Integer based indexing in the row and column directions\n",
        "* Indexing follows the same **0-based** indexing and slicing concepts used earlier\n",
        "\n",
        "*Syntax*:<br>\n",
        "**# for a specific data element**\n",
        "\n",
        "**data_frame_object_name.iloc [ row_index, column_index ]**\n",
        "\n",
        "**# Remember that Python indexing begins at 0. So, the index location [2, 6] selects the element that is 3 rows down and 7 columns of the DataFrame.**\n",
        "\n",
        "*Usage*:"
      ]
    },
    {
      "cell_type": "code",
      "execution_count": null,
      "metadata": {
        "id": "4AskwDryE-8G"
      },
      "outputs": [],
      "source": [
        "surveys_df.iloc[2, 6]"
      ]
    },
    {
      "cell_type": "code",
      "execution_count": null,
      "metadata": {
        "id": "ylC8O6BaE-8G"
      },
      "outputs": [],
      "source": [
        "surveys_df.head(5)"
      ]
    },
    {
      "cell_type": "markdown",
      "metadata": {
        "id": "pz0RrctNE-8G"
      },
      "source": [
        "*Syntax*:<br>\n",
        "**# for a range of data element**\n",
        "\n",
        "**data_frame_object_name.iloc [ starting_row_index : ending_row_index + 1 , starting_column_index : ending_column_index + 1 ]**\n",
        "\n",
        "**# Remember that in Python slicing, ending indices are not included in selection. So, the index location [1:4, 0:5] selects the  element in row 2 to 4 (index 1 to 3) and in columns 1 to 5 (index 0 to 4) of the DataFrame.**\n",
        "\n",
        "*Usage*:"
      ]
    },
    {
      "cell_type": "code",
      "execution_count": null,
      "metadata": {
        "id": "SFil84NZE-8G"
      },
      "outputs": [],
      "source": [
        "surveys_df.iloc[1:4, 0:5]"
      ]
    },
    {
      "cell_type": "code",
      "execution_count": null,
      "metadata": {
        "id": "Jfva3FV_E-8H"
      },
      "outputs": [],
      "source": [
        "surveys_df.iloc[3:5, 5:8]"
      ]
    },
    {
      "cell_type": "code",
      "execution_count": null,
      "metadata": {
        "id": "6Qsk1xIgE-8H"
      },
      "outputs": [],
      "source": [
        "surveys_df.iloc[3:5, :]"
      ]
    },
    {
      "cell_type": "code",
      "execution_count": null,
      "metadata": {
        "id": "zpbuFVEHE-8H"
      },
      "outputs": [],
      "source": [
        "surveys_df.iloc[:, 5:8].head()"
      ]
    },
    {
      "cell_type": "markdown",
      "metadata": {
        "id": "ElvFmbHOE-8H"
      },
      "source": [
        "*Syntax*:<br>\n",
        "**# selection by specifying a list of row indexes and list of column indexes**\n",
        "\n",
        "**data_frame_object_name.iloc [ [ list of row indexes ] , [ list of column indexes ] ]**\n",
        "\n",
        "*Usage*:"
      ]
    },
    {
      "cell_type": "code",
      "execution_count": null,
      "metadata": {
        "id": "Hz10TN8kE-8H"
      },
      "outputs": [],
      "source": [
        "surveys_df.iloc[[2,5,23,1], [8,5,6,7]]"
      ]
    },
    {
      "cell_type": "code",
      "execution_count": null,
      "metadata": {
        "id": "Mwqh0ATNE-8H"
      },
      "outputs": [],
      "source": [
        "surveys_df.iloc[[2,5,23], :]"
      ]
    },
    {
      "cell_type": "code",
      "execution_count": null,
      "metadata": {
        "id": "BSsqzBtKE-8H"
      },
      "outputs": [],
      "source": [
        "surveys_df.iloc[[2,5,23], 5:8]"
      ]
    },
    {
      "cell_type": "markdown",
      "metadata": {
        "id": "nnK0DXWpE-8I"
      },
      "source": [
        "##### **🐂loc**\n",
        "* Label based indexing.\n",
        "* Rows use Integer labels. When integers are used, they are interpreted as a label and not indexes.\n",
        "* Columns use a list of strings of the column names.\n",
        "* Indexing follows the same **0-based** indexing and slicing concepts used earlier\n",
        "\n",
        "NB: The integer row labels in **'loc'** are different from the integer indexes in **'iloc'**. With loc, both the start bound and the stop bound are inclusive.\n",
        "\n",
        "*Syntax*:<br>\n",
        "**# selection by specifying a list of integer row labels and list of column names**\n",
        "\n",
        "**data_frame_object_name.loc [ [list of row indexes ] , [list of column names ] ]**\n",
        "\n",
        "**# selection by specifying starting and ending integer row label and list of column names**\n",
        "\n",
        "**data_frame_object_name.loc [ starting_integer_row label : ending_integer_row label , [list of column names ] ]**\n",
        "\n",
        "\n",
        "*Usage*:"
      ]
    },
    {
      "cell_type": "code",
      "execution_count": null,
      "metadata": {
        "id": "uHtXHXrKE-8I"
      },
      "outputs": [],
      "source": [
        "surveys_df.loc[2:5,['species_id', 'plot_id', 'weight']]"
      ]
    },
    {
      "cell_type": "code",
      "execution_count": null,
      "metadata": {
        "id": "EIs4k_BlE-8I"
      },
      "outputs": [],
      "source": [
        "surveys_df.loc[[2,5,5,7],['species_id', 'plot_id', 'weight']]"
      ]
    },
    {
      "cell_type": "code",
      "execution_count": null,
      "metadata": {
        "id": "aQmOZ0BeE-8I"
      },
      "outputs": [],
      "source": [
        "surveys_df.loc[2:5,:]"
      ]
    },
    {
      "cell_type": "code",
      "execution_count": null,
      "metadata": {
        "id": "SERIXCivE-8I"
      },
      "outputs": [],
      "source": [
        "surveys_df.loc[:,['species_id', 'plot_id', 'weight']].tail()"
      ]
    },
    {
      "cell_type": "markdown",
      "metadata": {
        "id": "mt9ieDjbE-8I"
      },
      "source": [
        "## **🦘Creating Queries**\n",
        "Similar to SQL and R, we can select a subset of our data using criteria\n",
        "\n",
        "*Syntax*:<br>\n",
        "**data_frame_object_name [ < condition > ]**<br>\n",
        "\n",
        "**# Conditions must be based on columns names**\n",
        "\n",
        "*Usage*:"
      ]
    },
    {
      "cell_type": "code",
      "execution_count": null,
      "metadata": {
        "id": "ke67nfOCE-8I"
      },
      "outputs": [],
      "source": [
        "surveys_df[surveys_df['weight'] == 88]"
      ]
    },
    {
      "cell_type": "code",
      "execution_count": null,
      "metadata": {
        "id": "hgdO5elIE-8J"
      },
      "outputs": [],
      "source": [
        "surveys_df[surveys_df.weight == 88]"
      ]
    },
    {
      "cell_type": "code",
      "execution_count": null,
      "metadata": {
        "id": "wvc2ChiOE-8J"
      },
      "outputs": [],
      "source": [
        "surveys_df[surveys_df.month == surveys_df.plot_id].head()"
      ]
    },
    {
      "cell_type": "markdown",
      "metadata": {
        "id": "iPpQnshBE-8J"
      },
      "source": [
        "**<h5><center>Note</center></h5>**\n",
        "\n",
        "1. **Remember the python Comparison Operators discussed in the Introduction to Python Programming workshop**\n",
        "   * Equals: **==**\n",
        "   * Not equals: **!=**\n",
        "   * Greater than, less than: **>** or **<**\n",
        "   * Greater than or equal to, Less than or equal to: **>=** or **<=**<br><br>\n",
        "2. **Remember the python Logical Operators discussed in the Introduction to Python Programming workshop. This time we use the BITWISE versions**<br>\n",
        "   * Logical AND ( **&** )<br>\n",
        "     *Syntax*:<br> \n",
        "     *Note the parenthesis around each condition*<br>\n",
        "     **data_frame_object_name [ ( < condition 1 > ) & ( < condition 2 > ) ]**<br><br>\n",
        "   * Logical OR ( **|** )<br>\n",
        "     *Syntax*:<br> \n",
        "     *Note the parenthesis around each condition*<br>\n",
        "     **data_frame_object_name [ ( < condition 1 > ) | ( < condition 2 > ) ]**<br><br>\n",
        "   * Logical NOT ( **~** )<br>\n",
        "     **Use the ' ~ ' symbol to return the OPPOSITE of the selection**<br>\n",
        "     *Syntax*:<br>\n",
        "     **data_frame_object_name [ ~ ( < condition > ) ]**<br><br>\n",
        "   \n",
        "4. You can use the **'isin'** method to query a DataFrame based upon a list of column value<br>\n",
        "   \n",
        "   *Syntax*:<br>\n",
        "   **data_frame_object_name [ data_frame_object_name[ ' column_name ' ] . isin ( [ list of column values to search ] ) ]**<br>\n",
        "   or<br>\n",
        "   **data_frame_object_name [ data_frame_object_name . column_name . isin ( [ list of column values to search ] ) ]**\n",
        "\n",
        "   *Usage*:"
      ]
    },
    {
      "cell_type": "code",
      "execution_count": null,
      "metadata": {
        "id": "hQ8aVCgdE-8J"
      },
      "outputs": [],
      "source": [
        "surveys_df[(surveys_df.weight == 88) & (surveys_df.month == surveys_df.plot_id)]"
      ]
    },
    {
      "cell_type": "code",
      "execution_count": null,
      "metadata": {
        "id": "ILwuelMHE-8J"
      },
      "outputs": [],
      "source": [
        "surveys_df[surveys_df['weight'].isin([88,0.5,1])]"
      ]
    },
    {
      "cell_type": "code",
      "execution_count": null,
      "metadata": {
        "id": "9bj24FolE-8J"
      },
      "outputs": [],
      "source": [
        "surveys_df[~(surveys_df.weight.isin([88,0.5,1]))]"
      ]
    },
    {
      "cell_type": "markdown",
      "metadata": {
        "id": "OHFTBYRfE-8J"
      },
      "source": [
        "## **Exercise 1**\n",
        "#### Queries\n",
        "Perform the following queries\n",
        "1. Select a subset of rows in the surveys_df DataFrame that contain data from the year 1999 and weights less than or equal to 8.\n",
        "   How many rows did you end up with? What did your neighbor get?\n",
        "2. Display **record_id** and **plot_id** of data that contain data of the years 1999, 2000, 1977 and 1989.\n",
        "3. Write query that selects all rows with sex equal to ‘M’ or ‘F’ in the data. Write two different queries that produce this same result.Write two different queries that do the same thing."
      ]
    },
    {
      "cell_type": "code",
      "execution_count": null,
      "metadata": {
        "id": "I17Ge7HmE-8K"
      },
      "outputs": [],
      "source": []
    },
    {
      "cell_type": "code",
      "execution_count": null,
      "metadata": {
        "id": "9u5gSP-_E-8K"
      },
      "outputs": [],
      "source": []
    },
    {
      "cell_type": "code",
      "execution_count": null,
      "metadata": {
        "id": "gD_Kc9zjE-8K"
      },
      "outputs": [],
      "source": []
    },
    {
      "cell_type": "code",
      "execution_count": null,
      "metadata": {
        "id": "pE3p_bLgE-8K"
      },
      "outputs": [],
      "source": []
    },
    {
      "cell_type": "code",
      "execution_count": null,
      "metadata": {
        "id": "i5m4-7DOE-8K"
      },
      "outputs": [],
      "source": []
    },
    {
      "cell_type": "markdown",
      "metadata": {
        "id": "u-K-K3ocE-8K"
      },
      "source": [
        "### **🐫Summary statistics methods**\n",
        "**Calculate basic statistics for all records in all columns, a group of columns or a single column in a dataframe**"
      ]
    },
    {
      "cell_type": "code",
      "execution_count": null,
      "metadata": {
        "id": "KH1qP9IZE-8K"
      },
      "outputs": [],
      "source": [
        "surveys_df.describe()"
      ]
    },
    {
      "cell_type": "code",
      "execution_count": null,
      "metadata": {
        "id": "rUcnygk6E-8K"
      },
      "outputs": [],
      "source": [
        "surveys_df[['hindfoot_length','weight']].describe()"
      ]
    },
    {
      "cell_type": "code",
      "execution_count": null,
      "metadata": {
        "id": "QUAhgaiRE-8K"
      },
      "outputs": [],
      "source": [
        "surveys_df['record_id'].describe()"
      ]
    },
    {
      "cell_type": "markdown",
      "metadata": {
        "id": "Fs72c6FXE-8L"
      },
      "source": [
        "**Extract one specific metric**\n",
        "\n",
        "**data_frame_object . min( )<br>\n",
        "data_frame_object . max( )<br>\n",
        "data_frame_object . mean( )<br>\n",
        "data_frame_object . std( )<br>\n",
        "data_frame_object . sum( )<br>\n",
        "data_frame_object . count( )**"
      ]
    },
    {
      "cell_type": "code",
      "execution_count": null,
      "metadata": {
        "id": "qvM2vx5hE-8L"
      },
      "outputs": [],
      "source": [
        "surveys_df.min()"
      ]
    },
    {
      "cell_type": "code",
      "execution_count": null,
      "metadata": {
        "id": "327OwDoRE-8L"
      },
      "outputs": [],
      "source": [
        "surveys_df.mean()"
      ]
    },
    {
      "cell_type": "code",
      "execution_count": null,
      "metadata": {
        "id": "flFs7ThGE-8L"
      },
      "outputs": [],
      "source": [
        "surveys_df[['hindfoot_length','weight']].min()"
      ]
    },
    {
      "cell_type": "code",
      "execution_count": null,
      "metadata": {
        "id": "nr8OCp_GE-8L"
      },
      "outputs": [],
      "source": [
        "surveys_df[['hindfoot_length','weight']].mean()"
      ]
    },
    {
      "cell_type": "code",
      "execution_count": null,
      "metadata": {
        "id": "NA0JA6wXE-8L"
      },
      "outputs": [],
      "source": [
        "surveys_df['record_id'].min()"
      ]
    },
    {
      "cell_type": "code",
      "execution_count": null,
      "metadata": {
        "id": "JlMHdZQ6E-8L"
      },
      "outputs": [],
      "source": [
        "surveys_df['record_id'].mean()"
      ]
    },
    {
      "cell_type": "markdown",
      "metadata": {
        "id": "yh3Vg2UlE-8L"
      },
      "source": [
        "## **🐘Group by**\n",
        "**To summarize by one or more column** \n",
        "1. Use the **groupby ( )** pandas dataframe method. This creates a group by object in memory\n",
        "2. Use one on of the following summary statistics methods to get the grouped by data; **describe ( )**,**min ( )**,**max ( )**,**mean ( )**,**std ( )**,**count ( )**\n",
        "3. Use the **🐇agg( )** function to get different statistics on different columns in a group by object"
      ]
    },
    {
      "cell_type": "code",
      "execution_count": null,
      "metadata": {
        "id": "zkJc6Y8JE-8M"
      },
      "outputs": [],
      "source": [
        "a=surveys_df.groupby('sex')"
      ]
    },
    {
      "cell_type": "code",
      "source": [
        "a.describe()"
      ],
      "metadata": {
        "id": "V0H2nhkBRKID"
      },
      "execution_count": null,
      "outputs": []
    },
    {
      "cell_type": "code",
      "execution_count": null,
      "metadata": {
        "id": "bRMucywoE-8M"
      },
      "outputs": [],
      "source": [
        "a.mean()"
      ]
    },
    {
      "cell_type": "code",
      "source": [
        "surveys_df[['sex','hindfoot_length','weight']].groupby('sex').describe()"
      ],
      "metadata": {
        "id": "r1KaJ-I3RQZy"
      },
      "execution_count": null,
      "outputs": []
    },
    {
      "cell_type": "code",
      "source": [
        "surveys_df[['sex','species_id','hindfoot_length','weight']].groupby(['sex','species_id']).max()"
      ],
      "metadata": {
        "id": "GGeZTgShRSxa"
      },
      "execution_count": null,
      "outputs": []
    },
    {
      "cell_type": "code",
      "execution_count": null,
      "metadata": {
        "id": "ZK1iqhC5E-8M"
      },
      "outputs": [],
      "source": [
        "surveys_df[['sex','species_id','hindfoot_length','weight']].groupby(['sex','species_id'])['hindfoot_length'].max()"
      ]
    },
    {
      "cell_type": "code",
      "execution_count": null,
      "metadata": {
        "id": "KxMnKNv6E-8M"
      },
      "outputs": [],
      "source": [
        "surveys_df[['sex','species_id','hindfoot_length','weight']].groupby(['sex','species_id'])['weight'].sum()"
      ]
    },
    {
      "cell_type": "code",
      "execution_count": null,
      "metadata": {
        "id": "GsiGw3qkE-8M"
      },
      "outputs": [],
      "source": [
        "surveys_df[['sex','species_id','hindfoot_length','weight']].groupby(['sex','species_id']).agg({'hindfoot_length':'max','weight':'sum'})"
      ]
    },
    {
      "cell_type": "markdown",
      "metadata": {
        "id": "pglfOE4DE-8M"
      },
      "source": [
        "## **Exercise 2**\n",
        "#### Data Workflows and Automation\n",
        "1. Create a script/module called **'survey_years.py'** with the following\n",
        "   * Import the **pandas** and **os** modules\n",
        "   * Create a new folder called **'yearly_files'** using the **os.mkdir( ' data/yearly_files ' )** function\n",
        "   * Create a first function called **generate_year_files** that imports **'surveys.csv'** into a dataframe and do the following<br>\n",
        "     a) Read all the unique years<br>\n",
        "     b) For each year between **1990** and **2000**, create new **CSV** files with data from only one particular year.<br> \n",
        "     c) The name of the new files should follow the format **'survey_year.csv'** example **'survey_1977.csv'**<br>\n",
        "     **HINT**: Use the **for loop** and **if block**<br><br>\n",
        "   * Create the second function called **display_year_file_names** which reads names of the files generated and print them out.<br>\n",
        "     **HINTS**:<br> \n",
        "     Use the **os.listdir ( ' path/survey_\\* ' )** function to get the list of all files<br>\n",
        "     Use the **for loop** to loop through and print the file names<br><br>\n",
        "2. Import the **'survey_years.py'** module into your current session and use the two functions to generate the files for the years and print the file names      "
      ]
    },
    {
      "cell_type": "code",
      "execution_count": null,
      "metadata": {
        "id": "4QAJjg1GE-8N"
      },
      "outputs": [],
      "source": []
    },
    {
      "cell_type": "code",
      "execution_count": null,
      "metadata": {
        "id": "c3lbwbuBE-8N"
      },
      "outputs": [],
      "source": []
    },
    {
      "cell_type": "code",
      "source": [],
      "metadata": {
        "id": "PlaiKf8vRYwy"
      },
      "execution_count": null,
      "outputs": []
    },
    {
      "cell_type": "markdown",
      "metadata": {
        "id": "qZuW2p9MNmxO"
      },
      "source": [
        "## **Bonus Exercise**\n",
        "\n",
        "* Grouping on each month, find the average hindfoot length\n",
        "* Find the number of entries and average weight for each plot\n",
        "* For every entry not during the summer (months June, July, August), find the largest hindfoot length"
      ]
    },
    {
      "cell_type": "markdown",
      "metadata": {
        "id": "2mKS68T6E-8N"
      },
      "source": [
        "## **Advanced and Future Topics**\n",
        "* Concatenation of dataFrames with the pandas concat function\n",
        "* Left, Right, Inner and Outer joins with the pandas merge function\n",
        "* Python for Data Visualization\n",
        "* Error Handling and Exceptions\n",
        "* List Comprehension\n",
        "* Regular Expressions\n",
        "* Database Access\n",
        "* Multithreading\n",
        "\n",
        "## **Helpful Resources**\n",
        "* CEAS Library Python resources - http://guides.libraries.uc.edu/python\n",
        "* Online links & tutorials\n",
        " * Data Carpentry - https://datacarpentry.org/python-ecology-lesson/\n",
        " * Python documentation - https://www.python.org/doc/\n",
        " * Python Programming wiki book - http://en.wikibooks.org/wiki/Python_Programming\n",
        " * Python tutorials - Udemy, Code academy, etc  "
      ]
    },
    {
      "cell_type": "markdown",
      "metadata": {
        "id": "pD6WTLkoE-8N"
      },
      "source": [
        "\n",
        "$\\;\\;\\;\\;\\;\\;\\;\\;\\;\\;\\;\\;\\;\\;\\;\\;\\;\\;\\;\\;\\;\\;\\;\\;\\;\\;\\;\\;\\;\\;\\;\\;\\;\\;\\;\\;\\;\\;\\;\\;\\;\\;\\;\\;\\;\\;\\;\\;\\;\\;\\;\\;\\;\\;\\;\\;\\;\\;$**Thank you for attending the workshop !!**\n",
        "\n",
        "\n",
        "$\\;\\;\\;\\;\\;\\;\\;\\;\\;\\;\\;\\;\\;\\;\\;\\;\\;\\;\\;\\;\\;\\;\\;\\;\\;\\;\\;\\;\\;\\;\\;\\;\\;\\;\\;\\;\\;\\;\\;\\;\\;\\;\\;\\;\\;\\;$**Your kind suggestions/feedbacks are more than welcome**"
      ]
    }
  ],
  "metadata": {
    "colab": {
      "provenance": []
    },
    "kernelspec": {
      "display_name": "Python 3.10.6 64-bit",
      "language": "python",
      "name": "python3"
    },
    "language_info": {
      "codemirror_mode": {
        "name": "ipython",
        "version": 3
      },
      "file_extension": ".py",
      "mimetype": "text/x-python",
      "name": "python",
      "nbconvert_exporter": "python",
      "pygments_lexer": "ipython3",
      "version": "3.10.6"
    },
    "vscode": {
      "interpreter": {
        "hash": "aee8b7b246df8f9039afb4144a1f6fd8d2ca17a180786b69acc140d282b71a49"
      }
    }
  },
  "nbformat": 4,
  "nbformat_minor": 0
}
