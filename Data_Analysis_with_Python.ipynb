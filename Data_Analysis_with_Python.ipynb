{
  "cells": [
    {
      "cell_type": "markdown",
      "metadata": {
        "id": "uN0rPiA3E-7y"
      },
      "source": [
        "# Objectives\n",
        "\n",
        "\n",
        "### Data Analysis with Python\n",
        "\n",
        "* **Hands-on working on a data file with Pandas**\n",
        "  * Creating a Dataframe object and saving/exporting DataFrames\n",
        "  * Exploring a Dataframe (columns, datatypes, shape etc)\n",
        "  * Dataframe and Series slicing and indexing\n",
        "  * Querying Dataframes\n",
        "  * Running statistics on Dataframes\n",
        "  * Grouping and aggregating Dataframes\n",
        "\n",
        "* **Future Topics**<br><br>\n",
        "\n",
        "* **Helpful hints & resources**"
      ]
    },
    {
      "cell_type": "markdown",
      "metadata": {
        "id": "tt6PCd-NE-73"
      },
      "source": [
        "# Our Data\n",
        "We will be using files from the [Portal Project Teaching Database](https://figshare.com/articles/Portal_Project_Teaching_Database/1314459). This section will use the **'surveys.csv'** file, stored as a **'.csv'** and can be downloaded here: https://ndownloader.figshare.com/files/2292172<br>\n",
        "We are studying the species and weight of animals caught in sites in our study area.<br>\n",
        "Each row holds information for a single animal, and the columns represent:\n",
        "\n",
        "| **Column**      | **Description**               |\n",
        "|:----------------|:------------------------------|\n",
        "| record_id       | Unique id for the observation |\n",
        "| month           | month of observation          |\n",
        "| day             | day of observation            |\n",
        "| year            | year of observation           |\n",
        "| plot_id         | ID of a particular site       |\n",
        "| species_id      | 2-letter code for a species   |\n",
        "| sex             | sex of animal (“M”, “F”)      |\n",
        "| hindfoot_length | length of the hindfoot in mm  |\n",
        "| weight          | weight of the animal in grams |\t"
      ]
    },
    {
      "cell_type": "markdown",
      "metadata": {
        "id": "jBIdS1e4E-74"
      },
      "source": [
        "# What is a Python Dataframe?\n",
        "* 2-dimensional data structure that can store data of different types (including characters, integers, floating point values, factors and more) in a tabular form. Each row holds information for each column.\n",
        "* Similar to a spreadsheet or an SQL table or the **'data.frame'** in R. \n",
        "* Dataframes have indexes starting from 0. \n",
        "* An index refers to the position of an element in the data structure.\n",
        "\n",
        "# What is a Python Series?\n",
        "* A series is a one-dimensional structure like an associative array. \n",
        "* Series have indexes starting from 0.\n",
        "* An index refers to the position of a value in the data structure.\n",
        "\n",
        "|index | value     |\n",
        "|------|-----------|\n",
        "| 0    | -84.5099  |\n",
        "| 1    | -84.48937 |\n",
        "| 2    | -84.4432  |\n",
        "\n",
        "\n",
        "# Pandas in Python (Python Data Analysis Library)\n",
        "* **Python Data Analysis Library** shortened as **pandas** is a third-party package for data manipulation\n",
        "* The **pandas** package is one of the best options for working with tabular data in Python\n",
        "* **pandas** ingest data as Dataframe objects and works with both Dataframes and Series\n",
        "* **pandas** uses sequential indexes by default\n",
        "* **pandas** provides data structures, produces high quality plots with **matplotlib** (a Python package graphing) and integrates nicely with other libraries that use **NumPy** (a Python package for arrays processing).\n",
        "* Operations on **numpy** arrays also work on **pandas** Series \n",
        "\n",
        "**Importing Pandas**"
      ]
    },
    {
      "cell_type": "code",
      "execution_count": 2,
      "metadata": {
        "id": "Ed-DzV3OE-75"
      },
      "outputs": [],
      "source": [
        "import pandas as pd"
      ]
    },
    {
      "cell_type": "code",
      "execution_count": 3,
      "metadata": {
        "id": "pXbxNw2ZFHtb"
      },
      "outputs": [
        {
          "name": "stderr",
          "output_type": "stream",
          "text": [
            "48.42s - pydevd: Sending message related to process being replaced timed-out after 5 seconds\n"
          ]
        },
        {
          "name": "stdout",
          "output_type": "stream",
          "text": [
            "zsh:1: command not found: wget\n"
          ]
        }
      ],
      "source": [
        "## Run this cell if you're on Colab to download the 'data' file\n",
        "!wget https://raw.githubusercontent.com/CEASLIBRARY/Data_Analysis_with_Python/master/data/surveys.csv"
      ]
    },
    {
      "cell_type": "markdown",
      "metadata": {
        "id": "CxQlMkrDE-76"
      },
      "source": [
        "### Reading CSV Data Using Pandas - *pd.read_csv( )* function\n",
        "The pandas **'read_csv'** function pulls import from **'.csv'** files into a Dataframe objects\n",
        "\n",
        "*Syntax*:<br>\n",
        "**dataframe_object = pd.read_csv( file_path_name )**\n",
        "\n",
        "*Usage*:"
      ]
    },
    {
      "cell_type": "code",
      "execution_count": 4,
      "metadata": {
        "id": "0pGsZVKVE-76"
      },
      "outputs": [
        {
          "data": {
            "text/html": [
              "<div>\n",
              "<style scoped>\n",
              "    .dataframe tbody tr th:only-of-type {\n",
              "        vertical-align: middle;\n",
              "    }\n",
              "\n",
              "    .dataframe tbody tr th {\n",
              "        vertical-align: top;\n",
              "    }\n",
              "\n",
              "    .dataframe thead th {\n",
              "        text-align: right;\n",
              "    }\n",
              "</style>\n",
              "<table border=\"1\" class=\"dataframe\">\n",
              "  <thead>\n",
              "    <tr style=\"text-align: right;\">\n",
              "      <th></th>\n",
              "      <th>record_id</th>\n",
              "      <th>month</th>\n",
              "      <th>day</th>\n",
              "      <th>year</th>\n",
              "      <th>plot_id</th>\n",
              "      <th>species_id</th>\n",
              "      <th>sex</th>\n",
              "      <th>hindfoot_length</th>\n",
              "      <th>weight</th>\n",
              "    </tr>\n",
              "  </thead>\n",
              "  <tbody>\n",
              "    <tr>\n",
              "      <th>0</th>\n",
              "      <td>1</td>\n",
              "      <td>7</td>\n",
              "      <td>16</td>\n",
              "      <td>1977</td>\n",
              "      <td>2</td>\n",
              "      <td>NL</td>\n",
              "      <td>M</td>\n",
              "      <td>32.0</td>\n",
              "      <td>NaN</td>\n",
              "    </tr>\n",
              "    <tr>\n",
              "      <th>1</th>\n",
              "      <td>2</td>\n",
              "      <td>7</td>\n",
              "      <td>16</td>\n",
              "      <td>1977</td>\n",
              "      <td>3</td>\n",
              "      <td>NL</td>\n",
              "      <td>M</td>\n",
              "      <td>33.0</td>\n",
              "      <td>NaN</td>\n",
              "    </tr>\n",
              "    <tr>\n",
              "      <th>2</th>\n",
              "      <td>3</td>\n",
              "      <td>7</td>\n",
              "      <td>16</td>\n",
              "      <td>1977</td>\n",
              "      <td>2</td>\n",
              "      <td>DM</td>\n",
              "      <td>F</td>\n",
              "      <td>37.0</td>\n",
              "      <td>NaN</td>\n",
              "    </tr>\n",
              "    <tr>\n",
              "      <th>3</th>\n",
              "      <td>4</td>\n",
              "      <td>7</td>\n",
              "      <td>16</td>\n",
              "      <td>1977</td>\n",
              "      <td>7</td>\n",
              "      <td>DM</td>\n",
              "      <td>M</td>\n",
              "      <td>36.0</td>\n",
              "      <td>NaN</td>\n",
              "    </tr>\n",
              "    <tr>\n",
              "      <th>4</th>\n",
              "      <td>5</td>\n",
              "      <td>7</td>\n",
              "      <td>16</td>\n",
              "      <td>1977</td>\n",
              "      <td>3</td>\n",
              "      <td>DM</td>\n",
              "      <td>M</td>\n",
              "      <td>35.0</td>\n",
              "      <td>NaN</td>\n",
              "    </tr>\n",
              "    <tr>\n",
              "      <th>...</th>\n",
              "      <td>...</td>\n",
              "      <td>...</td>\n",
              "      <td>...</td>\n",
              "      <td>...</td>\n",
              "      <td>...</td>\n",
              "      <td>...</td>\n",
              "      <td>...</td>\n",
              "      <td>...</td>\n",
              "      <td>...</td>\n",
              "    </tr>\n",
              "    <tr>\n",
              "      <th>35544</th>\n",
              "      <td>35545</td>\n",
              "      <td>12</td>\n",
              "      <td>31</td>\n",
              "      <td>2002</td>\n",
              "      <td>15</td>\n",
              "      <td>AH</td>\n",
              "      <td>NaN</td>\n",
              "      <td>NaN</td>\n",
              "      <td>NaN</td>\n",
              "    </tr>\n",
              "    <tr>\n",
              "      <th>35545</th>\n",
              "      <td>35546</td>\n",
              "      <td>12</td>\n",
              "      <td>31</td>\n",
              "      <td>2002</td>\n",
              "      <td>15</td>\n",
              "      <td>AH</td>\n",
              "      <td>NaN</td>\n",
              "      <td>NaN</td>\n",
              "      <td>NaN</td>\n",
              "    </tr>\n",
              "    <tr>\n",
              "      <th>35546</th>\n",
              "      <td>35547</td>\n",
              "      <td>12</td>\n",
              "      <td>31</td>\n",
              "      <td>2002</td>\n",
              "      <td>10</td>\n",
              "      <td>RM</td>\n",
              "      <td>F</td>\n",
              "      <td>15.0</td>\n",
              "      <td>14.0</td>\n",
              "    </tr>\n",
              "    <tr>\n",
              "      <th>35547</th>\n",
              "      <td>35548</td>\n",
              "      <td>12</td>\n",
              "      <td>31</td>\n",
              "      <td>2002</td>\n",
              "      <td>7</td>\n",
              "      <td>DO</td>\n",
              "      <td>M</td>\n",
              "      <td>36.0</td>\n",
              "      <td>51.0</td>\n",
              "    </tr>\n",
              "    <tr>\n",
              "      <th>35548</th>\n",
              "      <td>35549</td>\n",
              "      <td>12</td>\n",
              "      <td>31</td>\n",
              "      <td>2002</td>\n",
              "      <td>5</td>\n",
              "      <td>NaN</td>\n",
              "      <td>NaN</td>\n",
              "      <td>NaN</td>\n",
              "      <td>NaN</td>\n",
              "    </tr>\n",
              "  </tbody>\n",
              "</table>\n",
              "<p>35549 rows × 9 columns</p>\n",
              "</div>"
            ],
            "text/plain": [
              "       record_id  month  day  year  plot_id species_id  sex  hindfoot_length  \\\n",
              "0              1      7   16  1977        2         NL    M             32.0   \n",
              "1              2      7   16  1977        3         NL    M             33.0   \n",
              "2              3      7   16  1977        2         DM    F             37.0   \n",
              "3              4      7   16  1977        7         DM    M             36.0   \n",
              "4              5      7   16  1977        3         DM    M             35.0   \n",
              "...          ...    ...  ...   ...      ...        ...  ...              ...   \n",
              "35544      35545     12   31  2002       15         AH  NaN              NaN   \n",
              "35545      35546     12   31  2002       15         AH  NaN              NaN   \n",
              "35546      35547     12   31  2002       10         RM    F             15.0   \n",
              "35547      35548     12   31  2002        7         DO    M             36.0   \n",
              "35548      35549     12   31  2002        5        NaN  NaN              NaN   \n",
              "\n",
              "       weight  \n",
              "0         NaN  \n",
              "1         NaN  \n",
              "2         NaN  \n",
              "3         NaN  \n",
              "4         NaN  \n",
              "...       ...  \n",
              "35544     NaN  \n",
              "35545     NaN  \n",
              "35546    14.0  \n",
              "35547    51.0  \n",
              "35548     NaN  \n",
              "\n",
              "[35549 rows x 9 columns]"
            ]
          },
          "execution_count": 4,
          "metadata": {},
          "output_type": "execute_result"
        }
      ],
      "source": [
        "surveys_df = pd.read_csv(\"surveys.csv\")\n",
        "surveys_df"
      ]
    },
    {
      "cell_type": "markdown",
      "metadata": {
        "id": "gK7BFlHYE-77"
      },
      "source": [
        "The first column is the **'0-based' index** of the DataFrame. It is not an actual column of the DataFrame but used to identify the position of the data.\n",
        "\n",
        "### Dataframe *head( )* and *tail( )* methods\n",
        "The **'head( )'** method displays the first several lines of a dataframe object.\n",
        "The **'tail( )'** method displays the last several lines of a dataframe object.\n",
        "\n",
        "*Syntax*:<br>\n",
        "**data_frame_object_name.head ( [ row_count_limit ] )**<br>\n",
        "**data_frame_object_name.tail ( [ row_count_limit ] )**\n",
        "\n",
        "**# row_count_limit is optional. Default is 5**\n",
        "\n",
        "\n",
        "*Usage*:"
      ]
    },
    {
      "cell_type": "code",
      "execution_count": null,
      "metadata": {
        "id": "Zunp4ob-E-78"
      },
      "outputs": [],
      "source": [
        "surveys_df.head()"
      ]
    },
    {
      "cell_type": "code",
      "execution_count": null,
      "metadata": {
        "id": "jUCMZSVtE-78"
      },
      "outputs": [],
      "source": [
        "surveys_df.tail(10)"
      ]
    },
    {
      "cell_type": "markdown",
      "metadata": {
        "id": "i6Wt_GaJE-79"
      },
      "source": [
        "### Writing out Data from Dataframe to CSV using *to_csv( )* method\n",
        "The **'to_csv'** pandas DataFrame method is used to export a DataFrame in CSV format\n",
        "\n",
        "*Syntax*:<br>\n",
        "**data_frame_object_name.to_csv ( csv_file_path_name , [ index ] , [ sep ] , [ na_rep ] , [ mode ] )**\n",
        "\n",
        "*Note*:\n",
        "* **csv_file_path_name** is the file path. If **None** is provided the result is returned as a string. Default is **None**\n",
        "* **index** is boolean value for Write row index/names. Default is **True**. Set this to **False** so that pandas doesn’t include the index number for each line.\n",
        "* **sep** is a string of length 1 for field delimiter for the output file. Default is **' , '**\n",
        "* **na_rep** is a string for missing data representation. Default is **' '**\n",
        "* **mode** is a string for the Python write mode. Default is **'w'**\n",
        "\n",
        "*Usage*:"
      ]
    },
    {
      "cell_type": "code",
      "execution_count": null,
      "metadata": {
        "id": "0clm84efE-79"
      },
      "outputs": [],
      "source": [
        "surveys_df_head = pd.read_csv(\"surveys.csv\").head(30)\n",
        "surveys_df_head.to_csv('surveys_head.csv', index=False)"
      ]
    },
    {
      "cell_type": "markdown",
      "metadata": {
        "id": "ZhcARp0_E-7-"
      },
      "source": [
        "**<h5><center>Note</center></h5>**\n",
        "\n",
        "**' to_excel '** pandas DataFrame method is used to export a DataFrame to an **Excel .xlsx** file"
      ]
    },
    {
      "cell_type": "markdown",
      "metadata": {
        "id": "iVh0ikhOE-7-"
      },
      "source": [
        "### Dataframe '*dtypes*' data attribute\n",
        "Shows the the data types of the values in the columns.\n",
        "\n",
        "*Syntax*:<br>\n",
        "**data_frame_object_name.dtypes**\n",
        "\n",
        "*Usage*:"
      ]
    },
    {
      "cell_type": "code",
      "execution_count": null,
      "metadata": {
        "id": "AsdaaRVzE-7-"
      },
      "outputs": [],
      "source": [
        "surveys_df.dtypes"
      ]
    },
    {
      "cell_type": "markdown",
      "metadata": {
        "id": "od9b9kUTE-7-"
      },
      "source": [
        "### Dataframe '*columns*' data attribute\n",
        "Shows an index list of all the column names in the DataFrame.\n",
        "\n",
        "*Syntax*:<br>\n",
        "**data_frame_object_name.columns**\n",
        "\n",
        "*Usage*:"
      ]
    },
    {
      "cell_type": "code",
      "execution_count": null,
      "metadata": {
        "id": "ggmTXP06E-7_"
      },
      "outputs": [],
      "source": [
        "surveys_df.columns"
      ]
    },
    {
      "cell_type": "code",
      "execution_count": null,
      "metadata": {
        "id": "xLXeLN_BE-7_"
      },
      "outputs": [],
      "source": [
        "surveys_df.columns[0:4]"
      ]
    },
    {
      "cell_type": "markdown",
      "metadata": {
        "id": "x5Vq3FSBE-7_"
      },
      "source": [
        "### Dataframe '*shape*' data attribute\n",
        "Outputs a tuple of the row by column count of the DataFrame.\n",
        "\n",
        "*Syntax*:<br>\n",
        "**data_frame_object_name.shape**\n",
        "\n",
        "*Usage*:"
      ]
    },
    {
      "cell_type": "code",
      "execution_count": null,
      "metadata": {
        "id": "alTkWtkcE-7_"
      },
      "outputs": [],
      "source": [
        "surveys_df.shape"
      ]
    },
    {
      "cell_type": "markdown",
      "metadata": {
        "collapsed": true,
        "id": "didszzDEE-8A"
      },
      "source": [
        "### Selecting data using Column Names\n",
        "* DataFrame objects are treated like dictionaries using column heads as keys\n",
        "* We use square brackets **[ ]** to select column data and for indexing<br>\n",
        "\n",
        "*Syntax*:<br>\n",
        "**data_frame_object_name [ 'column_name' ]**\n",
        "\n",
        "*Usage*:"
      ]
    },
    {
      "cell_type": "code",
      "execution_count": null,
      "metadata": {
        "id": "YiTPionJE-8A"
      },
      "outputs": [],
      "source": [
        "surveys_df['record_id']"
      ]
    },
    {
      "cell_type": "markdown",
      "metadata": {
        "id": "e6t4gmSJE-8A"
      },
      "source": [
        "* You may selct more than one column at a time by making a list of the column names<br>\n",
        "\n",
        "*Syntax*:<br>\n",
        "**data_frame_object_name [ [ 'column_name_1' , 'column_name_2' ] ]**\n",
        "\n",
        "*Usage*:"
      ]
    },
    {
      "cell_type": "code",
      "execution_count": null,
      "metadata": {
        "id": "ylcPj9hSE-8A"
      },
      "outputs": [],
      "source": [
        "surveys_df[['month', 'day']]"
      ]
    },
    {
      "cell_type": "markdown",
      "metadata": {
        "id": "yBs05aoaE-8B"
      },
      "source": [
        "* You may select a column data also by using the column name as an 'attribute'<br>\n",
        "\n",
        "*Syntax*:<br>\n",
        "**data_frame_object_name.column_name**\n",
        "\n",
        "*Usage*:"
      ]
    },
    {
      "cell_type": "code",
      "execution_count": null,
      "metadata": {
        "id": "OT8cx9baE-8B"
      },
      "outputs": [],
      "source": [
        "surveys_df.record_id"
      ]
    },
    {
      "cell_type": "markdown",
      "metadata": {
        "id": "Vw6kEOqHE-8B"
      },
      "source": [
        "### Selecting Unique values from a column \n",
        "#### Using pandas *'unique'* function\n",
        "The **pandas.unique()** function tells us all of the unique values in a column\n",
        "\n",
        "*Syntax*:<br>\n",
        "**pd.unique ( data_frame_object_name [ 'column_name' ] )**<br>\n",
        "or<br>\n",
        "**pd.unique ( data_frame_object_name.column_name )**\n",
        "\n",
        "*Usage*:"
      ]
    },
    {
      "cell_type": "code",
      "execution_count": null,
      "metadata": {
        "id": "cKkyP5P4E-8B"
      },
      "outputs": [],
      "source": [
        "pd.unique(surveys_df['species_id'])"
      ]
    },
    {
      "cell_type": "code",
      "execution_count": null,
      "metadata": {
        "id": "y4uBA4uLE-8B",
        "scrolled": true
      },
      "outputs": [],
      "source": [
        "pd.unique(surveys_df.species_id)"
      ]
    },
    {
      "cell_type": "markdown",
      "metadata": {
        "id": "LLqaUuNvE-8C"
      },
      "source": [
        "#### Using pandas Data series *'unique( )'* method\n",
        "Pandas Data series objects have a **unique( )** method for the same purpose of selecting the unique values in a column\n",
        "\n",
        "*Syntax*:<br>\n",
        "**data_series_object_name.unique ( )**<br>\n",
        "or<br>\n",
        "**data_frame_object_name [ 'column_name' ].unique ( )**<br>"
      ]
    },
    {
      "cell_type": "code",
      "execution_count": null,
      "metadata": {
        "id": "jf_IoLK6E-8D"
      },
      "outputs": [],
      "source": [
        "surveys_df['species_id'].unique()"
      ]
    },
    {
      "cell_type": "markdown",
      "metadata": {
        "id": "6Z6u17u0E-8E"
      },
      "source": [
        "### Extracting data Subsets by Indexing and Slicing\n",
        "#### Slicing and subsetting rows"
      ]
    },
    {
      "cell_type": "code",
      "execution_count": null,
      "metadata": {
        "id": "3qUJxkGRE-8E"
      },
      "outputs": [],
      "source": [
        "surveys_df[0:5]"
      ]
    },
    {
      "cell_type": "code",
      "execution_count": null,
      "metadata": {
        "id": "I7zttvkKE-8E"
      },
      "outputs": [],
      "source": [
        "surveys_df[3:7]"
      ]
    },
    {
      "cell_type": "code",
      "execution_count": null,
      "metadata": {
        "id": "DLYFzBLPE-8E"
      },
      "outputs": [],
      "source": [
        "surveys_df[5:]"
      ]
    },
    {
      "cell_type": "code",
      "execution_count": null,
      "metadata": {
        "id": "ZrYzJiKfE-8E"
      },
      "outputs": [],
      "source": [
        "surveys_df[:5]"
      ]
    },
    {
      "cell_type": "code",
      "execution_count": null,
      "metadata": {
        "id": "1BunOpZtE-8F"
      },
      "outputs": [],
      "source": [
        "surveys_df[-1:]"
      ]
    },
    {
      "cell_type": "code",
      "execution_count": null,
      "metadata": {
        "id": "SpN5TJ4nE-8F"
      },
      "outputs": [],
      "source": [
        "surveys_df[-3:]"
      ]
    },
    {
      "cell_type": "code",
      "execution_count": null,
      "metadata": {
        "id": "yzTi26aPE-8F"
      },
      "outputs": [],
      "source": [
        "surveys_df[-3:-1]"
      ]
    },
    {
      "cell_type": "markdown",
      "metadata": {
        "id": "4b6R03NCE-8F"
      },
      "source": [
        "#### Selecting and slicing data from columns"
      ]
    },
    {
      "cell_type": "code",
      "execution_count": null,
      "metadata": {
        "id": "xOu_ifb4E-8F"
      },
      "outputs": [],
      "source": [
        "surveys_df['record_id']"
      ]
    },
    {
      "cell_type": "code",
      "execution_count": null,
      "metadata": {
        "id": "Ewi62EyAE-8F"
      },
      "outputs": [],
      "source": [
        "surveys_df['record_id'][0]"
      ]
    },
    {
      "cell_type": "code",
      "execution_count": null,
      "metadata": {
        "id": "5NDXMLm6E-8F"
      },
      "outputs": [],
      "source": [
        "surveys_df.record_id[0]"
      ]
    },
    {
      "cell_type": "code",
      "execution_count": null,
      "metadata": {
        "id": "O3OZzvcYE-8G"
      },
      "outputs": [],
      "source": [
        "surveys_df['record_id'][0:4]"
      ]
    },
    {
      "cell_type": "code",
      "execution_count": null,
      "metadata": {
        "id": "5ez_DIZ7E-8G"
      },
      "outputs": [],
      "source": [
        "surveys_df[['record_id','plot_id']][0:5]"
      ]
    },
    {
      "cell_type": "markdown",
      "metadata": {
        "id": "SbUO0_q7E-8G"
      },
      "source": [
        "#### Slicing Subsets of Rows and Columns\n",
        "We can select a specific row and a column value (a specific data element) or ranges of the data in both the row and column directions using either the **'iloc'** data attribute with integer-based indexing or the **'loc'** data attribute with integers for rows and the column labels.\n",
        "\n",
        "\n",
        "##### iloc \n",
        "* Integer based indexing in the row and column directions\n",
        "* Indexing follows the same **0-based** indexing and slicing concepts used earlier\n",
        "\n",
        "*Syntax*:<br>\n",
        "**# for a specific data element**\n",
        "\n",
        "**data_frame_object_name.iloc [ row_index, column_index ]**\n",
        "\n",
        "**# Remember that Python indexing begins at 0. So, the index location [2, 6] selects the element that is 3 rows down and 7 columns of the DataFrame.**\n",
        "\n",
        "*Usage*:"
      ]
    },
    {
      "cell_type": "code",
      "execution_count": null,
      "metadata": {
        "id": "4AskwDryE-8G"
      },
      "outputs": [],
      "source": [
        "surveys_df.iloc[2, 6]"
      ]
    },
    {
      "cell_type": "code",
      "execution_count": null,
      "metadata": {
        "id": "ylC8O6BaE-8G"
      },
      "outputs": [],
      "source": [
        "surveys_df.head(5)"
      ]
    },
    {
      "cell_type": "markdown",
      "metadata": {
        "id": "pz0RrctNE-8G"
      },
      "source": [
        "*Syntax*:<br>\n",
        "**# for a range of data element**\n",
        "\n",
        "**data_frame_object_name.iloc [ starting_row_index : ending_row_index + 1 , starting_column_index : ending_column_index + 1 ]**\n",
        "\n",
        "**# Remember that in Python slicing, ending indices are not included in selection. So, the index location [1:4, 0:5] selects the  element in row 2 to 4 (index 1 to 3) and in columns 1 to 5 (index 0 to 4) of the DataFrame.**\n",
        "\n",
        "*Usage*:"
      ]
    },
    {
      "cell_type": "code",
      "execution_count": null,
      "metadata": {
        "id": "SFil84NZE-8G"
      },
      "outputs": [],
      "source": [
        "surveys_df.iloc[1:4, 0:5]"
      ]
    },
    {
      "cell_type": "code",
      "execution_count": null,
      "metadata": {
        "id": "Jfva3FV_E-8H"
      },
      "outputs": [],
      "source": [
        "surveys_df.iloc[3:5, 5:8]"
      ]
    },
    {
      "cell_type": "code",
      "execution_count": null,
      "metadata": {
        "id": "6Qsk1xIgE-8H"
      },
      "outputs": [],
      "source": [
        "surveys_df.iloc[3:5, :]"
      ]
    },
    {
      "cell_type": "code",
      "execution_count": null,
      "metadata": {
        "id": "zpbuFVEHE-8H"
      },
      "outputs": [],
      "source": [
        "surveys_df.iloc[:, 5:8].head()"
      ]
    },
    {
      "cell_type": "markdown",
      "metadata": {
        "id": "ElvFmbHOE-8H"
      },
      "source": [
        "*Syntax*:<br>\n",
        "**# selection by specifying a list of row indexes and list of column indexes**\n",
        "\n",
        "**data_frame_object_name.iloc [ [ list of row indexes ] , [ list of column indexes ] ]**\n",
        "\n",
        "*Usage*:"
      ]
    },
    {
      "cell_type": "code",
      "execution_count": null,
      "metadata": {
        "id": "Hz10TN8kE-8H"
      },
      "outputs": [],
      "source": [
        "surveys_df.iloc[[2,5,23,1], [8,5,6,7]]"
      ]
    },
    {
      "cell_type": "code",
      "execution_count": null,
      "metadata": {
        "id": "Mwqh0ATNE-8H"
      },
      "outputs": [],
      "source": [
        "surveys_df.iloc[[2,5,23], :]"
      ]
    },
    {
      "cell_type": "code",
      "execution_count": null,
      "metadata": {
        "id": "BSsqzBtKE-8H"
      },
      "outputs": [],
      "source": [
        "surveys_df.iloc[[2,5,23], 5:8]"
      ]
    },
    {
      "cell_type": "markdown",
      "metadata": {
        "id": "nnK0DXWpE-8I"
      },
      "source": [
        "##### loc \n",
        "* Label based indexing.\n",
        "* Rows use Integer labels. When integers are used, they are interpreted as a label and not indexes.\n",
        "* Columns use a list of strings of the column names.\n",
        "* Indexing follows the same **0-based** indexing and slicing concepts used earlier\n",
        "\n",
        "NB: The integer row labels in **'loc'** are different from the integer indexes in **'iloc'**. With loc, both the start bound and the stop bound are inclusive.\n",
        "\n",
        "*Syntax*:<br>\n",
        "**# selection by specifying a list of integer row labels and list of column names**\n",
        "\n",
        "**data_frame_object_name.loc [ [list of row indexes ] , [list of column names ] ]**\n",
        "\n",
        "**# selection by specifying starting and ending integer row label and list of column names**\n",
        "\n",
        "**data_frame_object_name.loc [ starting_integer_row label : ending_integer_row label , [list of column names ] ]**\n",
        "\n",
        "\n",
        "*Usage*:"
      ]
    },
    {
      "cell_type": "code",
      "execution_count": null,
      "metadata": {
        "id": "uHtXHXrKE-8I"
      },
      "outputs": [],
      "source": [
        "surveys_df.loc[2:5,['species_id', 'plot_id', 'weight']]"
      ]
    },
    {
      "cell_type": "code",
      "execution_count": null,
      "metadata": {
        "id": "EIs4k_BlE-8I"
      },
      "outputs": [],
      "source": [
        "surveys_df.loc[[2,5,5,7],['species_id', 'plot_id', 'weight']]"
      ]
    },
    {
      "cell_type": "code",
      "execution_count": null,
      "metadata": {
        "id": "aQmOZ0BeE-8I"
      },
      "outputs": [],
      "source": [
        "surveys_df.loc[2:5,:]"
      ]
    },
    {
      "cell_type": "code",
      "execution_count": null,
      "metadata": {
        "id": "SERIXCivE-8I"
      },
      "outputs": [],
      "source": [
        "surveys_df.loc[:,['species_id', 'plot_id', 'weight']].tail()"
      ]
    },
    {
      "cell_type": "markdown",
      "metadata": {
        "id": "mt9ieDjbE-8I"
      },
      "source": [
        "### Creating Queries on Dataframes\n",
        "Similar to SQL and R, we can select a subset of our data using criteria\n",
        "\n",
        "*Syntax*:<br>\n",
        "**data_frame_object_name [ < condition > ]**<br>\n",
        "\n",
        "**# Conditions must be based on columns names**\n",
        "\n",
        "*Usage*:"
      ]
    },
    {
      "cell_type": "code",
      "execution_count": null,
      "metadata": {
        "id": "ke67nfOCE-8I"
      },
      "outputs": [],
      "source": [
        "surveys_df[surveys_df['weight'] == 88]"
      ]
    },
    {
      "cell_type": "code",
      "execution_count": null,
      "metadata": {
        "id": "hgdO5elIE-8J"
      },
      "outputs": [],
      "source": [
        "surveys_df[surveys_df.weight == 88]"
      ]
    },
    {
      "cell_type": "code",
      "execution_count": null,
      "metadata": {
        "id": "wvc2ChiOE-8J"
      },
      "outputs": [],
      "source": [
        "surveys_df[surveys_df.month == surveys_df.plot_id].head()"
      ]
    },
    {
      "cell_type": "markdown",
      "metadata": {
        "id": "iPpQnshBE-8J"
      },
      "source": [
        "**<h5><center>Note</center></h5>**\n",
        "\n",
        "1. **Remember the python Comparison Operators discussed in the Introduction to Python Programming workshop**\n",
        "   * Equals: **==**\n",
        "   * Not equals: **!=**\n",
        "   * Greater than, less than: **>** or **<**\n",
        "   * Greater than or equal to, Less than or equal to: **>=** or **<=**<br><br>\n",
        "2. **Remember the python Logical Operators discussed in the Introduction to Python Programming workshop. This time we use the BITWISE versions**<br>\n",
        "   * Logical AND ( **&** )<br>\n",
        "     *Syntax*:<br> \n",
        "     *Note the parenthesis around each condition*<br>\n",
        "     **data_frame_object_name [ ( < condition 1 > ) & ( < condition 2 > ) ]**<br><br>\n",
        "   * Logical OR ( **|** )<br>\n",
        "     *Syntax*:<br> \n",
        "     *Note the parenthesis around each condition*<br>\n",
        "     **data_frame_object_name [ ( < condition 1 > ) | ( < condition 2 > ) ]**<br><br>\n",
        "   * Logical NOT ( **~** )<br>\n",
        "     **Use the ' ~ ' symbol to return the OPPOSITE of the selection**<br>\n",
        "     *Syntax*:<br>\n",
        "     **data_frame_object_name [ ~ ( < condition > ) ]**<br><br>\n",
        "   \n",
        "4. You can use the **'isin'** method to query a DataFrame based upon a list of column value<br>\n",
        "   \n",
        "   *Syntax*:<br>\n",
        "   **data_frame_object_name [ data_frame_object_name[ ' column_name ' ] . isin ( [ list of column values to search ] ) ]**<br>\n",
        "   or<br>\n",
        "   **data_frame_object_name [ data_frame_object_name . column_name . isin ( [ list of column values to search ] ) ]**\n",
        "\n",
        "   *Usage*:"
      ]
    },
    {
      "cell_type": "code",
      "execution_count": null,
      "metadata": {
        "id": "hQ8aVCgdE-8J"
      },
      "outputs": [],
      "source": [
        "surveys_df[(surveys_df.weight == 88) & (surveys_df.month == surveys_df.plot_id)]"
      ]
    },
    {
      "cell_type": "code",
      "execution_count": null,
      "metadata": {
        "id": "ILwuelMHE-8J"
      },
      "outputs": [],
      "source": [
        "surveys_df[surveys_df['weight'].isin([88,0.5,1])]"
      ]
    },
    {
      "cell_type": "code",
      "execution_count": null,
      "metadata": {
        "id": "9bj24FolE-8J"
      },
      "outputs": [],
      "source": [
        "surveys_df[~(surveys_df.weight.isin([88,0.5,1]))]"
      ]
    },
    {
      "cell_type": "markdown",
      "metadata": {
        "id": "OHFTBYRfE-8J"
      },
      "source": [
        "# Exercise 1\n",
        "#### Queries\n",
        "Perform the following queries\n",
        "1. Select a subset of rows in the surveys_df DataFrame that contain data from the year 1999 and weights less than or equal to 8.\n",
        "   How many rows did you end up with? What did your neighbor get?\n",
        "2. Display **record_id** and **plot_id** of data that contain data of the years 1999, 2000, 1977 and 1989.\n",
        "3. Write query that selects all rows with sex equal to ‘M’ or ‘F’ in the data. Write two different queries that produce this same result.Write two different queries that do the same thing."
      ]
    },
    {
      "cell_type": "code",
      "execution_count": null,
      "metadata": {
        "id": "I17Ge7HmE-8K"
      },
      "outputs": [],
      "source": []
    },
    {
      "cell_type": "code",
      "execution_count": null,
      "metadata": {
        "id": "9u5gSP-_E-8K"
      },
      "outputs": [],
      "source": []
    },
    {
      "cell_type": "code",
      "execution_count": null,
      "metadata": {
        "id": "gD_Kc9zjE-8K"
      },
      "outputs": [],
      "source": []
    },
    {
      "cell_type": "code",
      "execution_count": null,
      "metadata": {
        "id": "pE3p_bLgE-8K"
      },
      "outputs": [],
      "source": []
    },
    {
      "cell_type": "code",
      "execution_count": null,
      "metadata": {
        "id": "i5m4-7DOE-8K"
      },
      "outputs": [],
      "source": []
    },
    {
      "cell_type": "markdown",
      "metadata": {
        "id": "u-K-K3ocE-8K"
      },
      "source": [
        "### Summary statistics methods\n",
        "**Calculate basic statistics for all records in all columns, a group of columns or a single column in a dataframe**"
      ]
    },
    {
      "cell_type": "code",
      "execution_count": null,
      "metadata": {
        "id": "KH1qP9IZE-8K"
      },
      "outputs": [],
      "source": [
        "surveys_df.describe()"
      ]
    },
    {
      "cell_type": "code",
      "execution_count": null,
      "metadata": {
        "id": "rUcnygk6E-8K"
      },
      "outputs": [],
      "source": [
        "surveys_df[['hindfoot_length','weight']].describe()"
      ]
    },
    {
      "cell_type": "code",
      "execution_count": null,
      "metadata": {
        "id": "QUAhgaiRE-8K"
      },
      "outputs": [],
      "source": [
        "surveys_df['record_id'].describe()"
      ]
    },
    {
      "cell_type": "markdown",
      "metadata": {
        "id": "Fs72c6FXE-8L"
      },
      "source": [
        "**Extract one specific metric**\n",
        "\n",
        "**data_frame_object . min( )<br>\n",
        "data_frame_object . max( )<br>\n",
        "data_frame_object . mean( )<br>\n",
        "data_frame_object . std( )<br>\n",
        "data_frame_object . sum( )<br>\n",
        "data_frame_object . count( )**"
      ]
    },
    {
      "cell_type": "code",
      "execution_count": null,
      "metadata": {
        "id": "qvM2vx5hE-8L"
      },
      "outputs": [],
      "source": [
        "surveys_df.min()"
      ]
    },
    {
      "cell_type": "code",
      "execution_count": null,
      "metadata": {
        "id": "327OwDoRE-8L"
      },
      "outputs": [],
      "source": [
        "surveys_df.mean()"
      ]
    },
    {
      "cell_type": "code",
      "execution_count": null,
      "metadata": {
        "id": "flFs7ThGE-8L"
      },
      "outputs": [],
      "source": [
        "surveys_df[['hindfoot_length','weight']].min()"
      ]
    },
    {
      "cell_type": "code",
      "execution_count": null,
      "metadata": {
        "id": "nr8OCp_GE-8L"
      },
      "outputs": [],
      "source": [
        "surveys_df[['hindfoot_length','weight']].mean()"
      ]
    },
    {
      "cell_type": "code",
      "execution_count": null,
      "metadata": {
        "id": "NA0JA6wXE-8L"
      },
      "outputs": [],
      "source": [
        "surveys_df['record_id'].min()"
      ]
    },
    {
      "cell_type": "code",
      "execution_count": null,
      "metadata": {
        "id": "JlMHdZQ6E-8L"
      },
      "outputs": [],
      "source": [
        "surveys_df['record_id'].mean()"
      ]
    },
    {
      "cell_type": "markdown",
      "metadata": {
        "id": "yh3Vg2UlE-8L"
      },
      "source": [
        "### Group by\n",
        "**To summarize by one or more column** \n",
        "1. Use the **groupby ( )** pandas dataframe method. This creates a group by object in memory\n",
        "2. Use one on of the following summary statistics methods to get the grouped by data; **describe ( )**,**min ( )**,**max ( )**,**mean ( )**,**std ( )**,**count ( )**\n",
        "3. Use the **agg( )** function to get different statistics on different columns in a group by object"
      ]
    },
    {
      "cell_type": "code",
      "execution_count": 11,
      "metadata": {
        "id": "zkJc6Y8JE-8M"
      },
      "outputs": [],
      "source": [
        "a=surveys_df.groupby('sex')"
      ]
    },
    {
      "cell_type": "code",
      "execution_count": 7,
      "metadata": {
        "id": "VCcwE4NvE-8M"
      },
      "outputs": [
        {
          "data": {
            "text/html": [
              "<div>\n",
              "<style scoped>\n",
              "    .dataframe tbody tr th:only-of-type {\n",
              "        vertical-align: middle;\n",
              "    }\n",
              "\n",
              "    .dataframe tbody tr th {\n",
              "        vertical-align: top;\n",
              "    }\n",
              "\n",
              "    .dataframe thead tr th {\n",
              "        text-align: left;\n",
              "    }\n",
              "\n",
              "    .dataframe thead tr:last-of-type th {\n",
              "        text-align: right;\n",
              "    }\n",
              "</style>\n",
              "<table border=\"1\" class=\"dataframe\">\n",
              "  <thead>\n",
              "    <tr>\n",
              "      <th></th>\n",
              "      <th colspan=\"8\" halign=\"left\">record_id</th>\n",
              "      <th colspan=\"2\" halign=\"left\">month</th>\n",
              "      <th>...</th>\n",
              "      <th colspan=\"2\" halign=\"left\">hindfoot_length</th>\n",
              "      <th colspan=\"8\" halign=\"left\">weight</th>\n",
              "    </tr>\n",
              "    <tr>\n",
              "      <th></th>\n",
              "      <th>count</th>\n",
              "      <th>mean</th>\n",
              "      <th>std</th>\n",
              "      <th>min</th>\n",
              "      <th>25%</th>\n",
              "      <th>50%</th>\n",
              "      <th>75%</th>\n",
              "      <th>max</th>\n",
              "      <th>count</th>\n",
              "      <th>mean</th>\n",
              "      <th>...</th>\n",
              "      <th>75%</th>\n",
              "      <th>max</th>\n",
              "      <th>count</th>\n",
              "      <th>mean</th>\n",
              "      <th>std</th>\n",
              "      <th>min</th>\n",
              "      <th>25%</th>\n",
              "      <th>50%</th>\n",
              "      <th>75%</th>\n",
              "      <th>max</th>\n",
              "    </tr>\n",
              "    <tr>\n",
              "      <th>sex</th>\n",
              "      <th></th>\n",
              "      <th></th>\n",
              "      <th></th>\n",
              "      <th></th>\n",
              "      <th></th>\n",
              "      <th></th>\n",
              "      <th></th>\n",
              "      <th></th>\n",
              "      <th></th>\n",
              "      <th></th>\n",
              "      <th></th>\n",
              "      <th></th>\n",
              "      <th></th>\n",
              "      <th></th>\n",
              "      <th></th>\n",
              "      <th></th>\n",
              "      <th></th>\n",
              "      <th></th>\n",
              "      <th></th>\n",
              "      <th></th>\n",
              "      <th></th>\n",
              "    </tr>\n",
              "  </thead>\n",
              "  <tbody>\n",
              "    <tr>\n",
              "      <th>F</th>\n",
              "      <td>15690.0</td>\n",
              "      <td>18036.412046</td>\n",
              "      <td>10423.089000</td>\n",
              "      <td>3.0</td>\n",
              "      <td>8917.50</td>\n",
              "      <td>18075.5</td>\n",
              "      <td>27250.00</td>\n",
              "      <td>35547.0</td>\n",
              "      <td>15690.0</td>\n",
              "      <td>6.583047</td>\n",
              "      <td>...</td>\n",
              "      <td>36.0</td>\n",
              "      <td>64.0</td>\n",
              "      <td>15303.0</td>\n",
              "      <td>42.170555</td>\n",
              "      <td>36.847958</td>\n",
              "      <td>4.0</td>\n",
              "      <td>20.0</td>\n",
              "      <td>34.0</td>\n",
              "      <td>46.0</td>\n",
              "      <td>274.0</td>\n",
              "    </tr>\n",
              "    <tr>\n",
              "      <th>M</th>\n",
              "      <td>17348.0</td>\n",
              "      <td>17754.835601</td>\n",
              "      <td>10132.203323</td>\n",
              "      <td>1.0</td>\n",
              "      <td>8969.75</td>\n",
              "      <td>17727.5</td>\n",
              "      <td>26454.25</td>\n",
              "      <td>35548.0</td>\n",
              "      <td>17348.0</td>\n",
              "      <td>6.392668</td>\n",
              "      <td>...</td>\n",
              "      <td>36.0</td>\n",
              "      <td>58.0</td>\n",
              "      <td>16879.0</td>\n",
              "      <td>42.995379</td>\n",
              "      <td>36.184981</td>\n",
              "      <td>4.0</td>\n",
              "      <td>20.0</td>\n",
              "      <td>39.0</td>\n",
              "      <td>49.0</td>\n",
              "      <td>280.0</td>\n",
              "    </tr>\n",
              "  </tbody>\n",
              "</table>\n",
              "<p>2 rows × 56 columns</p>\n",
              "</div>"
            ],
            "text/plain": [
              "    record_id                                                               \\\n",
              "        count          mean           std  min      25%      50%       75%   \n",
              "sex                                                                          \n",
              "F     15690.0  18036.412046  10423.089000  3.0  8917.50  18075.5  27250.00   \n",
              "M     17348.0  17754.835601  10132.203323  1.0  8969.75  17727.5  26454.25   \n",
              "\n",
              "                month            ... hindfoot_length         weight  \\\n",
              "         max    count      mean  ...             75%   max    count   \n",
              "sex                              ...                                  \n",
              "F    35547.0  15690.0  6.583047  ...            36.0  64.0  15303.0   \n",
              "M    35548.0  17348.0  6.392668  ...            36.0  58.0  16879.0   \n",
              "\n",
              "                                                         \n",
              "          mean        std  min   25%   50%   75%    max  \n",
              "sex                                                      \n",
              "F    42.170555  36.847958  4.0  20.0  34.0  46.0  274.0  \n",
              "M    42.995379  36.184981  4.0  20.0  39.0  49.0  280.0  \n",
              "\n",
              "[2 rows x 56 columns]"
            ]
          },
          "execution_count": 7,
          "metadata": {},
          "output_type": "execute_result"
        }
      ],
      "source": [
        "a.describe()"
      ]
    },
    {
      "cell_type": "code",
      "execution_count": null,
      "metadata": {
        "id": "bRMucywoE-8M"
      },
      "outputs": [],
      "source": [
        "a.mean()"
      ]
    },
    {
      "cell_type": "code",
      "execution_count": 8,
      "metadata": {
        "id": "55OoQkGPE-8M"
      },
      "outputs": [
        {
          "data": {
            "text/html": [
              "<div>\n",
              "<style scoped>\n",
              "    .dataframe tbody tr th:only-of-type {\n",
              "        vertical-align: middle;\n",
              "    }\n",
              "\n",
              "    .dataframe tbody tr th {\n",
              "        vertical-align: top;\n",
              "    }\n",
              "\n",
              "    .dataframe thead tr th {\n",
              "        text-align: left;\n",
              "    }\n",
              "\n",
              "    .dataframe thead tr:last-of-type th {\n",
              "        text-align: right;\n",
              "    }\n",
              "</style>\n",
              "<table border=\"1\" class=\"dataframe\">\n",
              "  <thead>\n",
              "    <tr>\n",
              "      <th></th>\n",
              "      <th colspan=\"8\" halign=\"left\">hindfoot_length</th>\n",
              "      <th colspan=\"8\" halign=\"left\">weight</th>\n",
              "    </tr>\n",
              "    <tr>\n",
              "      <th></th>\n",
              "      <th>count</th>\n",
              "      <th>mean</th>\n",
              "      <th>std</th>\n",
              "      <th>min</th>\n",
              "      <th>25%</th>\n",
              "      <th>50%</th>\n",
              "      <th>75%</th>\n",
              "      <th>max</th>\n",
              "      <th>count</th>\n",
              "      <th>mean</th>\n",
              "      <th>std</th>\n",
              "      <th>min</th>\n",
              "      <th>25%</th>\n",
              "      <th>50%</th>\n",
              "      <th>75%</th>\n",
              "      <th>max</th>\n",
              "    </tr>\n",
              "    <tr>\n",
              "      <th>sex</th>\n",
              "      <th></th>\n",
              "      <th></th>\n",
              "      <th></th>\n",
              "      <th></th>\n",
              "      <th></th>\n",
              "      <th></th>\n",
              "      <th></th>\n",
              "      <th></th>\n",
              "      <th></th>\n",
              "      <th></th>\n",
              "      <th></th>\n",
              "      <th></th>\n",
              "      <th></th>\n",
              "      <th></th>\n",
              "      <th></th>\n",
              "      <th></th>\n",
              "    </tr>\n",
              "  </thead>\n",
              "  <tbody>\n",
              "    <tr>\n",
              "      <th>F</th>\n",
              "      <td>14894.0</td>\n",
              "      <td>28.836780</td>\n",
              "      <td>9.463789</td>\n",
              "      <td>7.0</td>\n",
              "      <td>21.0</td>\n",
              "      <td>27.0</td>\n",
              "      <td>36.0</td>\n",
              "      <td>64.0</td>\n",
              "      <td>15303.0</td>\n",
              "      <td>42.170555</td>\n",
              "      <td>36.847958</td>\n",
              "      <td>4.0</td>\n",
              "      <td>20.0</td>\n",
              "      <td>34.0</td>\n",
              "      <td>46.0</td>\n",
              "      <td>274.0</td>\n",
              "    </tr>\n",
              "    <tr>\n",
              "      <th>M</th>\n",
              "      <td>16476.0</td>\n",
              "      <td>29.709578</td>\n",
              "      <td>9.629246</td>\n",
              "      <td>2.0</td>\n",
              "      <td>21.0</td>\n",
              "      <td>34.0</td>\n",
              "      <td>36.0</td>\n",
              "      <td>58.0</td>\n",
              "      <td>16879.0</td>\n",
              "      <td>42.995379</td>\n",
              "      <td>36.184981</td>\n",
              "      <td>4.0</td>\n",
              "      <td>20.0</td>\n",
              "      <td>39.0</td>\n",
              "      <td>49.0</td>\n",
              "      <td>280.0</td>\n",
              "    </tr>\n",
              "  </tbody>\n",
              "</table>\n",
              "</div>"
            ],
            "text/plain": [
              "    hindfoot_length                                                    \\\n",
              "              count       mean       std  min   25%   50%   75%   max   \n",
              "sex                                                                     \n",
              "F           14894.0  28.836780  9.463789  7.0  21.0  27.0  36.0  64.0   \n",
              "M           16476.0  29.709578  9.629246  2.0  21.0  34.0  36.0  58.0   \n",
              "\n",
              "      weight                                                      \n",
              "       count       mean        std  min   25%   50%   75%    max  \n",
              "sex                                                               \n",
              "F    15303.0  42.170555  36.847958  4.0  20.0  34.0  46.0  274.0  \n",
              "M    16879.0  42.995379  36.184981  4.0  20.0  39.0  49.0  280.0  "
            ]
          },
          "execution_count": 8,
          "metadata": {},
          "output_type": "execute_result"
        }
      ],
      "source": [
        "surveys_df[['sex','hindfoot_length','weight']].groupby('sex').describe()"
      ]
    },
    {
      "cell_type": "code",
      "execution_count": 10,
      "metadata": {
        "id": "5lhfV7m-E-8M"
      },
      "outputs": [
        {
          "data": {
            "text/html": [
              "<div>\n",
              "<style scoped>\n",
              "    .dataframe tbody tr th:only-of-type {\n",
              "        vertical-align: middle;\n",
              "    }\n",
              "\n",
              "    .dataframe tbody tr th {\n",
              "        vertical-align: top;\n",
              "    }\n",
              "\n",
              "    .dataframe thead th {\n",
              "        text-align: right;\n",
              "    }\n",
              "</style>\n",
              "<table border=\"1\" class=\"dataframe\">\n",
              "  <thead>\n",
              "    <tr style=\"text-align: right;\">\n",
              "      <th></th>\n",
              "      <th></th>\n",
              "      <th>hindfoot_length</th>\n",
              "      <th>weight</th>\n",
              "    </tr>\n",
              "    <tr>\n",
              "      <th>sex</th>\n",
              "      <th>species_id</th>\n",
              "      <th></th>\n",
              "      <th></th>\n",
              "    </tr>\n",
              "  </thead>\n",
              "  <tbody>\n",
              "    <tr>\n",
              "      <th rowspan=\"23\" valign=\"top\">F</th>\n",
              "      <th>BA</th>\n",
              "      <td>16.0</td>\n",
              "      <td>18.0</td>\n",
              "    </tr>\n",
              "    <tr>\n",
              "      <th>DM</th>\n",
              "      <td>50.0</td>\n",
              "      <td>66.0</td>\n",
              "    </tr>\n",
              "    <tr>\n",
              "      <th>DO</th>\n",
              "      <td>64.0</td>\n",
              "      <td>76.0</td>\n",
              "    </tr>\n",
              "    <tr>\n",
              "      <th>DS</th>\n",
              "      <td>58.0</td>\n",
              "      <td>190.0</td>\n",
              "    </tr>\n",
              "    <tr>\n",
              "      <th>NL</th>\n",
              "      <td>38.0</td>\n",
              "      <td>274.0</td>\n",
              "    </tr>\n",
              "    <tr>\n",
              "      <th>OL</th>\n",
              "      <td>24.0</td>\n",
              "      <td>56.0</td>\n",
              "    </tr>\n",
              "    <tr>\n",
              "      <th>OT</th>\n",
              "      <td>50.0</td>\n",
              "      <td>46.0</td>\n",
              "    </tr>\n",
              "    <tr>\n",
              "      <th>OX</th>\n",
              "      <td>21.0</td>\n",
              "      <td>22.0</td>\n",
              "    </tr>\n",
              "    <tr>\n",
              "      <th>PB</th>\n",
              "      <td>36.0</td>\n",
              "      <td>54.0</td>\n",
              "    </tr>\n",
              "    <tr>\n",
              "      <th>PE</th>\n",
              "      <td>30.0</td>\n",
              "      <td>38.0</td>\n",
              "    </tr>\n",
              "    <tr>\n",
              "      <th>PF</th>\n",
              "      <td>38.0</td>\n",
              "      <td>24.0</td>\n",
              "    </tr>\n",
              "    <tr>\n",
              "      <th>PH</th>\n",
              "      <td>28.0</td>\n",
              "      <td>48.0</td>\n",
              "    </tr>\n",
              "    <tr>\n",
              "      <th>PL</th>\n",
              "      <td>22.0</td>\n",
              "      <td>27.0</td>\n",
              "    </tr>\n",
              "    <tr>\n",
              "      <th>PM</th>\n",
              "      <td>32.0</td>\n",
              "      <td>35.0</td>\n",
              "    </tr>\n",
              "    <tr>\n",
              "      <th>PP</th>\n",
              "      <td>41.0</td>\n",
              "      <td>74.0</td>\n",
              "    </tr>\n",
              "    <tr>\n",
              "      <th>PX</th>\n",
              "      <td>19.0</td>\n",
              "      <td>20.0</td>\n",
              "    </tr>\n",
              "    <tr>\n",
              "      <th>RF</th>\n",
              "      <td>20.0</td>\n",
              "      <td>20.0</td>\n",
              "    </tr>\n",
              "    <tr>\n",
              "      <th>RM</th>\n",
              "      <td>22.0</td>\n",
              "      <td>21.0</td>\n",
              "    </tr>\n",
              "    <tr>\n",
              "      <th>RO</th>\n",
              "      <td>16.0</td>\n",
              "      <td>13.0</td>\n",
              "    </tr>\n",
              "    <tr>\n",
              "      <th>SF</th>\n",
              "      <td>36.0</td>\n",
              "      <td>199.0</td>\n",
              "    </tr>\n",
              "    <tr>\n",
              "      <th>SH</th>\n",
              "      <td>33.0</td>\n",
              "      <td>140.0</td>\n",
              "    </tr>\n",
              "    <tr>\n",
              "      <th>SO</th>\n",
              "      <td>36.0</td>\n",
              "      <td>105.0</td>\n",
              "    </tr>\n",
              "    <tr>\n",
              "      <th>SS</th>\n",
              "      <td>NaN</td>\n",
              "      <td>57.0</td>\n",
              "    </tr>\n",
              "    <tr>\n",
              "      <th rowspan=\"26\" valign=\"top\">M</th>\n",
              "      <th>AH</th>\n",
              "      <td>NaN</td>\n",
              "      <td>NaN</td>\n",
              "    </tr>\n",
              "    <tr>\n",
              "      <th>BA</th>\n",
              "      <td>14.0</td>\n",
              "      <td>9.0</td>\n",
              "    </tr>\n",
              "    <tr>\n",
              "      <th>DM</th>\n",
              "      <td>48.0</td>\n",
              "      <td>62.0</td>\n",
              "    </tr>\n",
              "    <tr>\n",
              "      <th>DO</th>\n",
              "      <td>58.0</td>\n",
              "      <td>67.0</td>\n",
              "    </tr>\n",
              "    <tr>\n",
              "      <th>DS</th>\n",
              "      <td>57.0</td>\n",
              "      <td>170.0</td>\n",
              "    </tr>\n",
              "    <tr>\n",
              "      <th>NL</th>\n",
              "      <td>42.0</td>\n",
              "      <td>280.0</td>\n",
              "    </tr>\n",
              "    <tr>\n",
              "      <th>OL</th>\n",
              "      <td>39.0</td>\n",
              "      <td>48.0</td>\n",
              "    </tr>\n",
              "    <tr>\n",
              "      <th>OT</th>\n",
              "      <td>29.0</td>\n",
              "      <td>36.0</td>\n",
              "    </tr>\n",
              "    <tr>\n",
              "      <th>OX</th>\n",
              "      <td>21.0</td>\n",
              "      <td>24.0</td>\n",
              "    </tr>\n",
              "    <tr>\n",
              "      <th>PB</th>\n",
              "      <td>47.0</td>\n",
              "      <td>55.0</td>\n",
              "    </tr>\n",
              "    <tr>\n",
              "      <th>PE</th>\n",
              "      <td>26.0</td>\n",
              "      <td>40.0</td>\n",
              "    </tr>\n",
              "    <tr>\n",
              "      <th>PF</th>\n",
              "      <td>22.0</td>\n",
              "      <td>25.0</td>\n",
              "    </tr>\n",
              "    <tr>\n",
              "      <th>PH</th>\n",
              "      <td>28.0</td>\n",
              "      <td>42.0</td>\n",
              "    </tr>\n",
              "    <tr>\n",
              "      <th>PI</th>\n",
              "      <td>23.0</td>\n",
              "      <td>21.0</td>\n",
              "    </tr>\n",
              "    <tr>\n",
              "      <th>PL</th>\n",
              "      <td>22.0</td>\n",
              "      <td>23.0</td>\n",
              "    </tr>\n",
              "    <tr>\n",
              "      <th>PM</th>\n",
              "      <td>36.0</td>\n",
              "      <td>49.0</td>\n",
              "    </tr>\n",
              "    <tr>\n",
              "      <th>PP</th>\n",
              "      <td>27.0</td>\n",
              "      <td>42.0</td>\n",
              "    </tr>\n",
              "    <tr>\n",
              "      <th>PX</th>\n",
              "      <td>20.0</td>\n",
              "      <td>18.0</td>\n",
              "    </tr>\n",
              "    <tr>\n",
              "      <th>RF</th>\n",
              "      <td>19.0</td>\n",
              "      <td>15.0</td>\n",
              "    </tr>\n",
              "    <tr>\n",
              "      <th>RM</th>\n",
              "      <td>22.0</td>\n",
              "      <td>29.0</td>\n",
              "    </tr>\n",
              "    <tr>\n",
              "      <th>RO</th>\n",
              "      <td>17.0</td>\n",
              "      <td>11.0</td>\n",
              "    </tr>\n",
              "    <tr>\n",
              "      <th>RX</th>\n",
              "      <td>20.0</td>\n",
              "      <td>20.0</td>\n",
              "    </tr>\n",
              "    <tr>\n",
              "      <th>SF</th>\n",
              "      <td>38.0</td>\n",
              "      <td>100.0</td>\n",
              "    </tr>\n",
              "    <tr>\n",
              "      <th>SH</th>\n",
              "      <td>39.0</td>\n",
              "      <td>110.0</td>\n",
              "    </tr>\n",
              "    <tr>\n",
              "      <th>SO</th>\n",
              "      <td>28.0</td>\n",
              "      <td>86.0</td>\n",
              "    </tr>\n",
              "    <tr>\n",
              "      <th>SS</th>\n",
              "      <td>NaN</td>\n",
              "      <td>130.0</td>\n",
              "    </tr>\n",
              "  </tbody>\n",
              "</table>\n",
              "</div>"
            ],
            "text/plain": [
              "                hindfoot_length  weight\n",
              "sex species_id                         \n",
              "F   BA                     16.0    18.0\n",
              "    DM                     50.0    66.0\n",
              "    DO                     64.0    76.0\n",
              "    DS                     58.0   190.0\n",
              "    NL                     38.0   274.0\n",
              "    OL                     24.0    56.0\n",
              "    OT                     50.0    46.0\n",
              "    OX                     21.0    22.0\n",
              "    PB                     36.0    54.0\n",
              "    PE                     30.0    38.0\n",
              "    PF                     38.0    24.0\n",
              "    PH                     28.0    48.0\n",
              "    PL                     22.0    27.0\n",
              "    PM                     32.0    35.0\n",
              "    PP                     41.0    74.0\n",
              "    PX                     19.0    20.0\n",
              "    RF                     20.0    20.0\n",
              "    RM                     22.0    21.0\n",
              "    RO                     16.0    13.0\n",
              "    SF                     36.0   199.0\n",
              "    SH                     33.0   140.0\n",
              "    SO                     36.0   105.0\n",
              "    SS                      NaN    57.0\n",
              "M   AH                      NaN     NaN\n",
              "    BA                     14.0     9.0\n",
              "    DM                     48.0    62.0\n",
              "    DO                     58.0    67.0\n",
              "    DS                     57.0   170.0\n",
              "    NL                     42.0   280.0\n",
              "    OL                     39.0    48.0\n",
              "    OT                     29.0    36.0\n",
              "    OX                     21.0    24.0\n",
              "    PB                     47.0    55.0\n",
              "    PE                     26.0    40.0\n",
              "    PF                     22.0    25.0\n",
              "    PH                     28.0    42.0\n",
              "    PI                     23.0    21.0\n",
              "    PL                     22.0    23.0\n",
              "    PM                     36.0    49.0\n",
              "    PP                     27.0    42.0\n",
              "    PX                     20.0    18.0\n",
              "    RF                     19.0    15.0\n",
              "    RM                     22.0    29.0\n",
              "    RO                     17.0    11.0\n",
              "    RX                     20.0    20.0\n",
              "    SF                     38.0   100.0\n",
              "    SH                     39.0   110.0\n",
              "    SO                     28.0    86.0\n",
              "    SS                      NaN   130.0"
            ]
          },
          "execution_count": 10,
          "metadata": {},
          "output_type": "execute_result"
        }
      ],
      "source": [
        "surveys_df[['sex','species_id','hindfoot_length','weight']].groupby(['sex','species_id']).max()"
      ]
    },
    {
      "cell_type": "code",
      "execution_count": null,
      "metadata": {
        "id": "ZK1iqhC5E-8M"
      },
      "outputs": [],
      "source": [
        "surveys_df[['sex','species_id','hindfoot_length','weight']].groupby(['sex','species_id'])['hindfoot_length'].max()"
      ]
    },
    {
      "cell_type": "code",
      "execution_count": null,
      "metadata": {
        "id": "KxMnKNv6E-8M"
      },
      "outputs": [],
      "source": [
        "surveys_df[['sex','species_id','hindfoot_length','weight']].groupby(['sex','species_id'])['weight'].sum()"
      ]
    },
    {
      "cell_type": "code",
      "execution_count": null,
      "metadata": {
        "id": "GsiGw3qkE-8M"
      },
      "outputs": [],
      "source": [
        "surveys_df[['sex','species_id','hindfoot_length','weight']].groupby(['sex','species_id']).agg({'hindfoot_length':'max','weight':'sum'})"
      ]
    },
    {
      "cell_type": "markdown",
      "metadata": {
        "id": "pglfOE4DE-8M"
      },
      "source": [
        "# Exercise 2\n",
        "#### Data Workflows and Automation\n",
        "1. Create a script/module called **'survey_years.py'** with the following\n",
        "   * Import the **pandas** and **os** modules\n",
        "   * Create a new folder called **'yearly_files'** using the **os.mkdir( ' data/yearly_files ' )** function\n",
        "   * Create a first function called **generate_year_files** that imports **'surveys.csv'** into a dataframe and do the following<br>\n",
        "     a) Read all the unique years<br>\n",
        "     b) For each year between **1990** and **2000**, create new **CSV** files with data from only one particular year.<br> \n",
        "     c) The name of the new files should follow the format **'survey_year.csv'** example **'survey_1977.csv'**<br>\n",
        "     **HINT**: Use the **for loop** and **if block**<br><br>\n",
        "   * Create the second function called **display_year_file_names** which reads names of the files generated and print them out.<br>\n",
        "     **HINTS**:<br> \n",
        "     Use the **os.listdir ( ' path/survey_\\* ' )** function to get the list of all files<br>\n",
        "     Use the **for loop** to loop through and print the file names<br><br>\n",
        "2. Import the **'survey_years.py'** module into your current session and use the two functions to generate the files for the years and print the file names      "
      ]
    },
    {
      "cell_type": "code",
      "execution_count": null,
      "metadata": {
        "id": "4QAJjg1GE-8N"
      },
      "outputs": [],
      "source": []
    },
    {
      "cell_type": "code",
      "execution_count": null,
      "metadata": {
        "id": "c3lbwbuBE-8N"
      },
      "outputs": [],
      "source": []
    },
    {
      "cell_type": "code",
      "execution_count": 9,
      "metadata": {
        "id": "hWXudjVTE-8N"
      },
      "outputs": [
        {
          "data": {
            "text/html": [
              "<div>\n",
              "<style scoped>\n",
              "    .dataframe tbody tr th:only-of-type {\n",
              "        vertical-align: middle;\n",
              "    }\n",
              "\n",
              "    .dataframe tbody tr th {\n",
              "        vertical-align: top;\n",
              "    }\n",
              "\n",
              "    .dataframe thead th {\n",
              "        text-align: right;\n",
              "    }\n",
              "</style>\n",
              "<table border=\"1\" class=\"dataframe\">\n",
              "  <thead>\n",
              "    <tr style=\"text-align: right;\">\n",
              "      <th></th>\n",
              "      <th>record_id</th>\n",
              "      <th>month</th>\n",
              "      <th>day</th>\n",
              "      <th>year</th>\n",
              "      <th>plot_id</th>\n",
              "      <th>species_id</th>\n",
              "      <th>sex</th>\n",
              "      <th>hindfoot_length</th>\n",
              "      <th>weight</th>\n",
              "    </tr>\n",
              "  </thead>\n",
              "  <tbody>\n",
              "    <tr>\n",
              "      <th>0</th>\n",
              "      <td>1</td>\n",
              "      <td>7</td>\n",
              "      <td>16</td>\n",
              "      <td>1977</td>\n",
              "      <td>2</td>\n",
              "      <td>NL</td>\n",
              "      <td>M</td>\n",
              "      <td>32.0</td>\n",
              "      <td>NaN</td>\n",
              "    </tr>\n",
              "    <tr>\n",
              "      <th>1</th>\n",
              "      <td>2</td>\n",
              "      <td>7</td>\n",
              "      <td>16</td>\n",
              "      <td>1977</td>\n",
              "      <td>3</td>\n",
              "      <td>NL</td>\n",
              "      <td>M</td>\n",
              "      <td>33.0</td>\n",
              "      <td>NaN</td>\n",
              "    </tr>\n",
              "    <tr>\n",
              "      <th>2</th>\n",
              "      <td>3</td>\n",
              "      <td>7</td>\n",
              "      <td>16</td>\n",
              "      <td>1977</td>\n",
              "      <td>2</td>\n",
              "      <td>DM</td>\n",
              "      <td>F</td>\n",
              "      <td>37.0</td>\n",
              "      <td>NaN</td>\n",
              "    </tr>\n",
              "    <tr>\n",
              "      <th>3</th>\n",
              "      <td>4</td>\n",
              "      <td>7</td>\n",
              "      <td>16</td>\n",
              "      <td>1977</td>\n",
              "      <td>7</td>\n",
              "      <td>DM</td>\n",
              "      <td>M</td>\n",
              "      <td>36.0</td>\n",
              "      <td>NaN</td>\n",
              "    </tr>\n",
              "    <tr>\n",
              "      <th>4</th>\n",
              "      <td>5</td>\n",
              "      <td>7</td>\n",
              "      <td>16</td>\n",
              "      <td>1977</td>\n",
              "      <td>3</td>\n",
              "      <td>DM</td>\n",
              "      <td>M</td>\n",
              "      <td>35.0</td>\n",
              "      <td>NaN</td>\n",
              "    </tr>\n",
              "    <tr>\n",
              "      <th>...</th>\n",
              "      <td>...</td>\n",
              "      <td>...</td>\n",
              "      <td>...</td>\n",
              "      <td>...</td>\n",
              "      <td>...</td>\n",
              "      <td>...</td>\n",
              "      <td>...</td>\n",
              "      <td>...</td>\n",
              "      <td>...</td>\n",
              "    </tr>\n",
              "    <tr>\n",
              "      <th>35544</th>\n",
              "      <td>35545</td>\n",
              "      <td>12</td>\n",
              "      <td>31</td>\n",
              "      <td>2002</td>\n",
              "      <td>15</td>\n",
              "      <td>AH</td>\n",
              "      <td>NaN</td>\n",
              "      <td>NaN</td>\n",
              "      <td>NaN</td>\n",
              "    </tr>\n",
              "    <tr>\n",
              "      <th>35545</th>\n",
              "      <td>35546</td>\n",
              "      <td>12</td>\n",
              "      <td>31</td>\n",
              "      <td>2002</td>\n",
              "      <td>15</td>\n",
              "      <td>AH</td>\n",
              "      <td>NaN</td>\n",
              "      <td>NaN</td>\n",
              "      <td>NaN</td>\n",
              "    </tr>\n",
              "    <tr>\n",
              "      <th>35546</th>\n",
              "      <td>35547</td>\n",
              "      <td>12</td>\n",
              "      <td>31</td>\n",
              "      <td>2002</td>\n",
              "      <td>10</td>\n",
              "      <td>RM</td>\n",
              "      <td>F</td>\n",
              "      <td>15.0</td>\n",
              "      <td>14.0</td>\n",
              "    </tr>\n",
              "    <tr>\n",
              "      <th>35547</th>\n",
              "      <td>35548</td>\n",
              "      <td>12</td>\n",
              "      <td>31</td>\n",
              "      <td>2002</td>\n",
              "      <td>7</td>\n",
              "      <td>DO</td>\n",
              "      <td>M</td>\n",
              "      <td>36.0</td>\n",
              "      <td>51.0</td>\n",
              "    </tr>\n",
              "    <tr>\n",
              "      <th>35548</th>\n",
              "      <td>35549</td>\n",
              "      <td>12</td>\n",
              "      <td>31</td>\n",
              "      <td>2002</td>\n",
              "      <td>5</td>\n",
              "      <td>NaN</td>\n",
              "      <td>NaN</td>\n",
              "      <td>NaN</td>\n",
              "      <td>NaN</td>\n",
              "    </tr>\n",
              "  </tbody>\n",
              "</table>\n",
              "<p>35549 rows × 9 columns</p>\n",
              "</div>"
            ],
            "text/plain": [
              "       record_id  month  day  year  plot_id species_id  sex  hindfoot_length  \\\n",
              "0              1      7   16  1977        2         NL    M             32.0   \n",
              "1              2      7   16  1977        3         NL    M             33.0   \n",
              "2              3      7   16  1977        2         DM    F             37.0   \n",
              "3              4      7   16  1977        7         DM    M             36.0   \n",
              "4              5      7   16  1977        3         DM    M             35.0   \n",
              "...          ...    ...  ...   ...      ...        ...  ...              ...   \n",
              "35544      35545     12   31  2002       15         AH  NaN              NaN   \n",
              "35545      35546     12   31  2002       15         AH  NaN              NaN   \n",
              "35546      35547     12   31  2002       10         RM    F             15.0   \n",
              "35547      35548     12   31  2002        7         DO    M             36.0   \n",
              "35548      35549     12   31  2002        5        NaN  NaN              NaN   \n",
              "\n",
              "       weight  \n",
              "0         NaN  \n",
              "1         NaN  \n",
              "2         NaN  \n",
              "3         NaN  \n",
              "4         NaN  \n",
              "...       ...  \n",
              "35544     NaN  \n",
              "35545     NaN  \n",
              "35546    14.0  \n",
              "35547    51.0  \n",
              "35548     NaN  \n",
              "\n",
              "[35549 rows x 9 columns]"
            ]
          },
          "execution_count": 9,
          "metadata": {},
          "output_type": "execute_result"
        }
      ],
      "source": [
        "surveys_df"
      ]
    },
    {
      "cell_type": "markdown",
      "metadata": {},
      "source": [
        "# Bonus Exercise\n",
        "\n",
        "* Grouping on each month, find the average hindfoot length\n",
        "* Find the number of entries and average weight for each plot\n",
        "* For every entry not during the summer (months June, July, August), find the largest hindfoot length"
      ]
    },
    {
      "cell_type": "markdown",
      "metadata": {
        "id": "2mKS68T6E-8N"
      },
      "source": [
        "# Advanced and Future Topics\n",
        "* Concatenation of dataFrames with the pandas concat function\n",
        "* Left, Right, Inner and Outer joins with the pandas merge function\n",
        "* Python for Data Visualization\n",
        "* Error Handling and Exceptions\n",
        "* List Comprehension\n",
        "* Regular Expressions\n",
        "* Database Access\n",
        "* Multithreading\n",
        "\n",
        "# Helpful Resources\n",
        "* CEAS Library Python resources - http://guides.libraries.uc.edu/python\n",
        "* Online links & tutorials\n",
        " * Data Carpentry - https://datacarpentry.org/python-ecology-lesson/\n",
        " * Python documentation - https://www.python.org/doc/\n",
        " * Python Programming wiki book - http://en.wikibooks.org/wiki/Python_Programming\n",
        " * Python tutorials - Udemy, Code academy, etc  "
      ]
    },
    {
      "cell_type": "markdown",
      "metadata": {
        "id": "pD6WTLkoE-8N"
      },
      "source": [
        "\n",
        "$\\;\\;\\;\\;\\;\\;\\;\\;\\;\\;\\;\\;\\;\\;\\;\\;\\;\\;\\;\\;\\;\\;\\;\\;\\;\\;\\;\\;\\;\\;\\;\\;\\;\\;\\;\\;\\;\\;\\;\\;\\;\\;\\;\\;\\;\\;\\;\\;\\;\\;\\;\\;\\;\\;\\;\\;\\;\\;$**Thank you for attending the workshop !!**\n",
        "\n",
        "\n",
        "$\\;\\;\\;\\;\\;\\;\\;\\;\\;\\;\\;\\;\\;\\;\\;\\;\\;\\;\\;\\;\\;\\;\\;\\;\\;\\;\\;\\;\\;\\;\\;\\;\\;\\;\\;\\;\\;\\;\\;\\;\\;\\;\\;\\;\\;\\;$**Your kind suggestions/feedbacks are more than welcome**"
      ]
    }
  ],
  "metadata": {
    "colab": {
      "name": "Data Analysis with Python.ipynb",
      "provenance": []
    },
    "kernelspec": {
      "display_name": "Python 3.10.6 64-bit",
      "language": "python",
      "name": "python3"
    },
    "language_info": {
      "codemirror_mode": {
        "name": "ipython",
        "version": 3
      },
      "file_extension": ".py",
      "mimetype": "text/x-python",
      "name": "python",
      "nbconvert_exporter": "python",
      "pygments_lexer": "ipython3",
      "version": "3.10.6"
    },
    "vscode": {
      "interpreter": {
        "hash": "aee8b7b246df8f9039afb4144a1f6fd8d2ca17a180786b69acc140d282b71a49"
      }
    }
  },
  "nbformat": 4,
  "nbformat_minor": 0
}
